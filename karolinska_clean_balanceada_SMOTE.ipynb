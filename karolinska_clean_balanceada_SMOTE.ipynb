{
  "nbformat": 4,
  "nbformat_minor": 0,
  "metadata": {
    "colab": {
      "provenance": []
    },
    "kernelspec": {
      "name": "python3",
      "display_name": "Python 3"
    },
    "language_info": {
      "name": "python"
    }
  },
  "cells": [
    {
      "cell_type": "markdown",
      "metadata": {
        "id": "FaI2W2vzhF9i"
      },
      "source": [
        "**Obs: Importante frisar que os datasets utilizados ja estão balanceados e tratados, sendo o único tratamento feito, foi a exlusão dos outliers**"
      ]
    },
    {
      "cell_type": "code",
      "metadata": {
        "id": "hORybZY1W6QE"
      },
      "source": [
        "#Ao executar a primeira vez, tem que instalar a biblioteca pyod\n",
        "\n",
        "#!pip install pyod\n",
        "!pip install pyod"
      ],
      "execution_count": null,
      "outputs": []
    },
    {
      "cell_type": "markdown",
      "metadata": {
        "id": "v-_4vxkfKa9n"
      },
      "source": [
        "**Importando as bibliotecas**"
      ]
    },
    {
      "cell_type": "code",
      "metadata": {
        "id": "NE6yrdzMV-9U"
      },
      "source": [
        "import pandas as pd\n",
        "from pyod.models.knn import KNN\n",
        "import matplotlib.pyplot as plt\n",
        "from scipy.stats import norm\n",
        "import seaborn as sns\n",
        "import numpy as np\n",
        "import scipy.stats as stats\n",
        "import statistics as sts\n",
        "from sklearn.model_selection import train_test_split, KFold, cross_val_score\n",
        "import keras\n",
        "from keras.models import Sequential\n",
        "from keras.layers import Dense, Activation, Dropout\n",
        "from sklearn.ensemble import ExtraTreesClassifier, RandomForestClassifier\n",
        "from sklearn.multioutput import MultiOutputClassifier, MultiOutputRegressor\n",
        "from sklearn.neighbors import KNeighborsClassifier\n",
        "from sklearn import tree\n",
        "from xgboost.sklearn import XGBClassifier\n",
        "from sklearn.metrics import confusion_matrix, f1_score, accuracy_score, precision_score, recall_score, matthews_corrcoef, classification_report, recall_score, precision_recall_curve"
      ],
      "execution_count": null,
      "outputs": []
    },
    {
      "cell_type": "markdown",
      "metadata": {
        "id": "QiiNlgYxKgK6"
      },
      "source": [
        "**Carregando as bases de dados**"
      ]
    },
    {
      "cell_type": "code",
      "metadata": {
        "id": "-PHVEAhHWJ5U"
      },
      "source": [
        "previsores_cvd = pd.read_csv('previsores_cvd.csv')\n",
        "target_cvd = pd.read_csv('target_cvd.csv')\n",
        "\n",
        "previsores_MI = pd.read_csv('previsores_MI.csv')\n",
        "target_MI = pd.read_csv('target_MI.csv')\n",
        "\n",
        "previsores_ANGINA = pd.read_csv('previsores_ANGINA.csv')\n",
        "target_ANGINA = pd.read_csv('target_ANGINA.csv')\n",
        "\n",
        "previsores_STROKE = pd.read_csv('previsores_STROKE.csv')\n",
        "target_STROKE = pd.read_csv('target_STROKE.csv')"
      ],
      "execution_count": null,
      "outputs": []
    },
    {
      "cell_type": "code",
      "metadata": {
        "colab": {
          "base_uri": "https://localhost:8080/"
        },
        "id": "bdjUClah4b84",
        "outputId": "20994005-e75c-4f51-9dd9-53608d893246"
      },
      "source": [
        "previsores_cvd.shape, previsores_MI.shape, previsores_ANGINA.shape, previsores_STROKE.shape"
      ],
      "execution_count": null,
      "outputs": [
        {
          "output_type": "execute_result",
          "data": {
            "text/plain": [
              "((1310, 15), (1480, 15), (1458, 15), (1532, 15))"
            ]
          },
          "metadata": {},
          "execution_count": 4
        }
      ]
    },
    {
      "cell_type": "markdown",
      "metadata": {
        "id": "sxnL7Oux-jAI"
      },
      "source": [
        "**Concatenando previsores e targets**"
      ]
    },
    {
      "cell_type": "code",
      "metadata": {
        "id": "RorfHvrWwown"
      },
      "source": [
        "#Nessa parte, será necessário concater a base previsores com target, visto que, nesse caso, a ideia é excluir os outlier\n",
        "#Sendo assim, caso não faça isso, a quantidade de linhas de previsores e targets ficarão desiguais, causando erro na hora de implementar o train_test_split\n",
        "#Por outro lado, caso for substituir os valores dos outliers, não é necessário concatenar.\n",
        "\n",
        "previsores_cvd = pd.concat([previsores_cvd, target_cvd], verify_integrity=True, axis=1)\n",
        "\n",
        "previsores_MI = pd.concat([previsores_MI, target_MI], verify_integrity=True, axis=1)\n",
        "\n",
        "previsores_ANGINA = pd.concat([previsores_ANGINA, target_ANGINA], verify_integrity=True, axis=1)\n",
        "\n",
        "previsores_STROKE = pd.concat([previsores_STROKE, target_STROKE], verify_integrity=True, axis=1)"
      ],
      "execution_count": null,
      "outputs": []
    },
    {
      "cell_type": "markdown",
      "metadata": {
        "id": "Sg9asjtS-pRS"
      },
      "source": [
        "**Detectando Outliers através da biblioteca pyod**"
      ]
    },
    {
      "cell_type": "code",
      "metadata": {
        "colab": {
          "base_uri": "https://localhost:8080/"
        },
        "id": "UNxf09eAb0wW",
        "outputId": "1d51430a-982b-43c6-d5c0-3a4eee290926"
      },
      "source": [
        "#Cria o modelo e faz o ajuste nas bases previsores para detectar os outliers\n",
        "\n",
        "detector_cvd = KNN()\n",
        "detector_cvd.fit(previsores_cvd.iloc[:,0:15])\n",
        "\n",
        "detector_MI = KNN()\n",
        "detector_MI.fit(previsores_MI.iloc[:,0:15])\n",
        "\n",
        "detector_ANGINA = KNN()\n",
        "detector_ANGINA.fit(previsores_ANGINA.iloc[:,0:15])\n",
        "\n",
        "detector_STROKE = KNN()\n",
        "detector_STROKE.fit(previsores_STROKE.iloc[:,0:15])"
      ],
      "execution_count": null,
      "outputs": [
        {
          "output_type": "execute_result",
          "data": {
            "text/plain": [
              "KNN(algorithm='auto', contamination=0.1, leaf_size=30, method='largest',\n",
              "  metric='minkowski', metric_params=None, n_jobs=1, n_neighbors=5, p=2,\n",
              "  radius=1.0)"
            ]
          },
          "metadata": {},
          "execution_count": 103
        }
      ]
    },
    {
      "cell_type": "code",
      "metadata": {
        "id": "2WHY7lQEcpJZ"
      },
      "source": [
        "#Retorna um array de 0 e 1, onde 0 não é outlier e 1 é outlier\n",
        "\n",
        "previsoes_outliers_cvd = detector_cvd.labels_\n",
        "\n",
        "previsoes_outliers_MI = detector_MI.labels_\n",
        "\n",
        "previsoes_outliers_ANGINA = detector_ANGINA.labels_\n",
        "\n",
        "previsoes_outliers_STROKE = detector_STROKE.labels_"
      ],
      "execution_count": null,
      "outputs": []
    },
    {
      "cell_type": "code",
      "metadata": {
        "colab": {
          "base_uri": "https://localhost:8080/"
        },
        "id": "uiJ1y8pUc6L-",
        "outputId": "b2a7cb3c-1100-45d6-9014-a76996de2beb"
      },
      "source": [
        "#Retorna a soma de 0 e 1 que o detector localizou\n",
        "#Com isso, também ja podemos saber a quantidade de outliers que existem no dataset\n",
        "\n",
        "np.unique(previsoes_outliers_cvd, return_counts=True)\n",
        "\n",
        "np.unique(previsoes_outliers_MI, return_counts=True)\n",
        "\n",
        "np.unique(previsoes_outliers_ANGINA, return_counts=True)\n",
        "\n",
        "np.unique(previsoes_outliers_STROKE, return_counts=True)"
      ],
      "execution_count": null,
      "outputs": [
        {
          "output_type": "execute_result",
          "data": {
            "text/plain": [
              "(array([0, 1]), array([1378,  154]))"
            ]
          },
          "metadata": {},
          "execution_count": 105
        }
      ]
    },
    {
      "cell_type": "code",
      "metadata": {
        "id": "fMT0Vc8gdIUq"
      },
      "source": [
        "#Adiciona em uma lista, os índices das linhas que possuem outliers\n",
        "\n",
        "outliers_previsores_cvd = []\n",
        "for i in range(len(previsoes_outliers_cvd)):\n",
        "  if previsoes_outliers_cvd[i] == 1:\n",
        "    outliers_previsores_cvd.append(i)\n",
        "\n",
        "outliers_previsores_MI = []\n",
        "for i in range(len(previsoes_outliers_MI)):\n",
        "  if previsoes_outliers_MI[i] == 1:\n",
        "    outliers_previsores_MI.append(i)\n",
        "\n",
        "outliers_previsores_ANGINA = []\n",
        "for i in range(len(previsoes_outliers_ANGINA)):\n",
        "  if previsoes_outliers_ANGINA[i] == 1:\n",
        "    outliers_previsores_ANGINA.append(i)\n",
        "\n",
        "outliers_previsores_STROKE = []\n",
        "for i in range(len(previsoes_outliers_STROKE)):\n",
        "  if previsoes_outliers_STROKE[i] == 1:\n",
        "    outliers_previsores_STROKE.append(i)"
      ],
      "execution_count": null,
      "outputs": []
    },
    {
      "cell_type": "code",
      "metadata": {
        "id": "k2PdohExd4QB"
      },
      "source": [
        "#Cria um DataFrame somente com as linhas que possuem outliers\n",
        "\n",
        "#lista_outliers_previsores_cvd = previsores_cvd.iloc[outliers_previsores_cvd,:]\n",
        "\n",
        "#lista_outliers_previsores_MI = previsores_MI.iloc[outliers_previsores_MI,:]\n",
        "\n",
        "#lista_outliers_previsores_ANGINA = previsores_ANGINA.iloc[outliers_previsores_ANGINA,:]\n",
        "\n",
        "#lista_outliers_previsores_STROKE = previsores_STROKE.iloc[outliers_previsores_STROKE,:]"
      ],
      "execution_count": null,
      "outputs": []
    },
    {
      "cell_type": "code",
      "metadata": {
        "id": "3LkqpVLbmWKD"
      },
      "source": [
        "#Exlui as linhas que possuem outliers na base previsores\n",
        "\n",
        "previsores_cvd = previsores_cvd.drop(outliers_previsores_cvd, axis=0)\n",
        "\n",
        "previsores_MI = previsores_MI.drop(outliers_previsores_MI, axis=0)\n",
        "\n",
        "previsores_ANGINA = previsores_ANGINA.drop(outliers_previsores_ANGINA, axis=0)\n",
        "\n",
        "previsores_STROKE = previsores_STROKE.drop(outliers_previsores_STROKE, axis=0)"
      ],
      "execution_count": null,
      "outputs": []
    },
    {
      "cell_type": "markdown",
      "metadata": {
        "id": "iMel_kn4-2ym"
      },
      "source": [
        "**Separando previsores e targets após exlusão dos outliers**"
      ]
    },
    {
      "cell_type": "code",
      "metadata": {
        "id": "TGLMJ9W9vxjx"
      },
      "source": [
        "target_cvd = previsores_cvd['cvd']\n",
        "previsores_cvd = previsores_cvd.drop(['cvd'], axis=1)\n",
        "\n",
        "target_MI = previsores_MI['MI']\n",
        "previsores_MI = previsores_MI.drop(['MI'], axis=1)\n",
        "\n",
        "target_ANGINA = previsores_ANGINA['ANGINA']\n",
        "previsores_ANGINA = previsores_ANGINA.drop(['ANGINA'], axis=1)\n",
        "\n",
        "target_STROKE = previsores_STROKE['STROKE']\n",
        "previsores_STROKE = previsores_STROKE.drop(['STROKE'], axis=1)"
      ],
      "execution_count": null,
      "outputs": []
    },
    {
      "cell_type": "markdown",
      "metadata": {
        "id": "HjQ1QOVU--2a"
      },
      "source": [
        "**Detectando Outliers através do z-score**"
      ]
    },
    {
      "cell_type": "code",
      "metadata": {
        "colab": {
          "base_uri": "https://localhost:8080/",
          "height": 69
        },
        "id": "i9EOSOAwPdGQ",
        "outputId": "73485a65-fdca-4288-9df4-a1b5ea739d65"
      },
      "source": [
        "'''\n",
        "outliers=[]\n",
        "\n",
        "def find_outliers(data_set):\n",
        "    corte_dp =3\n",
        "    media = np.mean(data_set)\n",
        "    dp =np.std(data_set)\n",
        "    \n",
        "    \n",
        "    for dado in data_set:\n",
        "        \n",
        "        z_score = (dado - media)/dp \n",
        "        if np.abs(z_score) > corte_dp:\n",
        "            outliers.append(dado)\n",
        "            \n",
        "    #print('Os outliers são: ', outliers)\n",
        "    \n",
        "    return outliers\n",
        "'''"
      ],
      "execution_count": null,
      "outputs": [
        {
          "output_type": "execute_result",
          "data": {
            "application/vnd.google.colaboratory.intrinsic+json": {
              "type": "string"
            },
            "text/plain": [
              "\"\\noutliers=[]\\n\\ndef find_outliers(data_set):\\n    corte_dp =3\\n    media = np.mean(data_set)\\n    dp =np.std(data_set)\\n    \\n    \\n    for dado in data_set:\\n        \\n        z_score = (dado - media)/dp \\n        if np.abs(z_score) > corte_dp:\\n            outliers.append(dado)\\n            \\n    #print('Os outliers são: ', outliers)\\n    \\n    return outliers\\n\""
            ]
          },
          "metadata": {},
          "execution_count": 110
        }
      ]
    },
    {
      "cell_type": "markdown",
      "metadata": {
        "id": "5ioi_7pI_YfK"
      },
      "source": [
        "**Detectando outliers através da amplitude_interquartil**"
      ]
    },
    {
      "cell_type": "code",
      "metadata": {
        "id": "vysMB3gGTRdU"
      },
      "source": [
        "#Q1, Q3 = np.percentile(previsores_STROKE['BTDIASM'] , [25 ,75])\n",
        "#print('Primeiro Quartil ou Pecentil 25: ',Q1)\n",
        "#print('Terciro quartil ou percentil 75  ',Q3)"
      ],
      "execution_count": null,
      "outputs": []
    },
    {
      "cell_type": "code",
      "metadata": {
        "id": "l4XJTuLdTao7"
      },
      "source": [
        "#Amp_interquartil = Q3 - Q1\n",
        "#print(Amp_interquartil)"
      ],
      "execution_count": null,
      "outputs": []
    },
    {
      "cell_type": "code",
      "metadata": {
        "id": "ukORYsZqTffD"
      },
      "source": [
        "# determinar o limite inferior e o limite superior\n",
        "#limite_inferior = Q1 - (1.5 * Amp_interquartil)\n",
        "#limite_superior = Q3 + (1.5 * Amp_interquartil)\n",
        "\n",
        "#print('Limite Inferior: ',limite_inferior )\n",
        "#print('Limite Superior: ',limite_superior )"
      ],
      "execution_count": null,
      "outputs": []
    },
    {
      "cell_type": "markdown",
      "metadata": {
        "id": "d913RbdeKvja"
      },
      "source": [
        "**Separando as bases em treinamento e teste**"
      ]
    },
    {
      "cell_type": "code",
      "metadata": {
        "id": "SdKWajShWdrt"
      },
      "source": [
        "#Separando base previsores e target_cvd\n",
        "\n",
        "X_train_cvd, X_test_cvd, y_train_cvd, y_test_cvd = train_test_split(previsores_cvd, target_cvd, test_size = 0.20)\n",
        "\n",
        "#Separando base previsores e target_MI\n",
        "\n",
        "X_train_MI, X_test_MI, y_train_MI, y_test_MI = train_test_split(previsores_MI, target_MI, test_size = 0.20)\n",
        "\n",
        "#Separando base previsores e target_ANGINA\n",
        "\n",
        "X_train_ANGINA, X_test_ANGINA, y_train_ANGINA, y_test_ANGINA = train_test_split(previsores_ANGINA, target_ANGINA, test_size = 0.20)\n",
        "\n",
        "#Separando base previsores e target_STROKE\n",
        "\n",
        "X_train_STROKE, X_test_STROKE, y_train_STROKE, y_test_STROKE = train_test_split(previsores_STROKE, target_STROKE, test_size = 0.20)"
      ],
      "execution_count": null,
      "outputs": []
    },
    {
      "cell_type": "markdown",
      "metadata": {
        "id": "exWgXUCJLCMv"
      },
      "source": [
        "**Instanciando o algoritmo RandomForestClassifier**"
      ]
    },
    {
      "cell_type": "code",
      "metadata": {
        "id": "mtb3tjXLWzYw"
      },
      "source": [
        "modeloRandom = RandomForestClassifier()"
      ],
      "execution_count": null,
      "outputs": []
    },
    {
      "cell_type": "markdown",
      "metadata": {
        "id": "fvRbf-F0LbXG"
      },
      "source": [
        "**Treinando previsores_cvd / target_cvd com RandomForestClassifier**"
      ]
    },
    {
      "cell_type": "code",
      "metadata": {
        "id": "AXkCSQFwW8Ag",
        "colab": {
          "base_uri": "https://localhost:8080/"
        },
        "outputId": "3114489d-8a33-4b8e-88c1-17ef49b0cde9"
      },
      "source": [
        "modeloRandom.fit(X_train_cvd, y_train_cvd)"
      ],
      "execution_count": null,
      "outputs": [
        {
          "output_type": "execute_result",
          "data": {
            "text/plain": [
              "RandomForestClassifier(bootstrap=True, ccp_alpha=0.0, class_weight=None,\n",
              "                       criterion='gini', max_depth=None, max_features='auto',\n",
              "                       max_leaf_nodes=None, max_samples=None,\n",
              "                       min_impurity_decrease=0.0, min_impurity_split=None,\n",
              "                       min_samples_leaf=1, min_samples_split=2,\n",
              "                       min_weight_fraction_leaf=0.0, n_estimators=100,\n",
              "                       n_jobs=None, oob_score=False, random_state=None,\n",
              "                       verbose=0, warm_start=False)"
            ]
          },
          "metadata": {},
          "execution_count": 116
        }
      ]
    },
    {
      "cell_type": "code",
      "metadata": {
        "id": "aic2K_meXIHs"
      },
      "source": [
        "previsoes_cvd = modeloRandom.predict(X_test_cvd)"
      ],
      "execution_count": null,
      "outputs": []
    },
    {
      "cell_type": "code",
      "metadata": {
        "colab": {
          "base_uri": "https://localhost:8080/",
          "height": 242
        },
        "id": "QKdXr0juXQlk",
        "outputId": "e93d0192-26cb-4a54-e554-6032c31e4fca"
      },
      "source": [
        "matriz_cvd = confusion_matrix(y_test_cvd, previsoes_cvd)\n",
        "\n",
        "plt.figure(figsize = (5,3))\n",
        "sns.heatmap(matriz_cvd, annot = True)\n",
        "plt.xlabel(\"Previsoes\")\n",
        "plt.ylabel(\"Resposta Certa\")"
      ],
      "execution_count": null,
      "outputs": [
        {
          "output_type": "execute_result",
          "data": {
            "text/plain": [
              "Text(24.0, 0.5, 'Resposta Certa')"
            ]
          },
          "metadata": {},
          "execution_count": 118
        },
        {
          "output_type": "display_data",
          "data": {
            "image/png": "[encoded data removed]",
            "text/plain": [
              "<Figure size 360x216 with 2 Axes>"
            ]
          },
          "metadata": {
            "needs_background": "light"
          }
        }
      ]
    },
    {
      "cell_type": "code",
      "metadata": {
        "id": "4hTQWJLEcUVL"
      },
      "source": [
        "#Separando os valores TP-TN-FP-FN previosres/target_cvd\n",
        "\n",
        "TP_cvd = matriz_cvd[0,0]\n",
        "TN_cvd = matriz_cvd[1,1]\n",
        "FP_cvd = matriz_cvd[1,0]\n",
        "FN_cvd = matriz_cvd[0,1]\n",
        "\n",
        "#Accuracy previosres/target_cvd\n",
        "\n",
        "Accuracy_cvd = accuracy_score(y_test_cvd, previsoes_cvd) * 100\n",
        "\n",
        "#F1_Score previsores/target_cvd\n",
        "\n",
        "F1_cvd = f1_score(y_test_cvd, previsoes_cvd, labels=None, pos_label=1, average='binary', sample_weight=None, zero_division='warn') * 100\n",
        "\n",
        "#MCC_Score previsores/target_cvd\n",
        "\n",
        "MCC_cvd = matthews_corrcoef(y_test_cvd, previsoes_cvd) * 100\n",
        "\n",
        "# Sensitivity previsores/target_cvd\n",
        "\n",
        "sensitivity = recall_score(y_test_cvd, previsoes_cvd, labels=None, pos_label=1, average='micro', sample_weight=None, zero_division='warn') * 100 # VP/(VP+FN)\n",
        "\n",
        "# Specificity previsores/target_cvd\n",
        "\n",
        "specificity_cvd = TN_cvd/(TN_cvd+FP_cvd) * 100"
      ],
      "execution_count": null,
      "outputs": []
    },
    {
      "cell_type": "code",
      "metadata": {
        "colab": {
          "base_uri": "https://localhost:8080/"
        },
        "id": "FWwKfBeycevY",
        "outputId": "8683a9ed-37e6-43db-dbef-608e16491560"
      },
      "source": [
        "print(f'Accuracy_cvd: {round(Accuracy_cvd,2)} %\\n\\nF1_cvd: {round(F1_cvd,2)} %\\n\\nMCC_cvd: {round(MCC_cvd,2)} %\\n\\nSensitivity_cvd: {round(sensitivity,2)} %\\n\\nSpecificity_cvd: {round(specificity_cvd,2)} %')"
      ],
      "execution_count": null,
      "outputs": [
        {
          "output_type": "stream",
          "name": "stdout",
          "text": [
            "Accuracy_cvd: 82.2 %\n",
            "\n",
            "F1_cvd: 82.5 %\n",
            "\n",
            "MCC_cvd: 64.69 %\n",
            "\n",
            "Sensitivity_cvd: 82.2 %\n",
            "\n",
            "Specificity_cvd: 86.09 %\n"
          ]
        }
      ]
    },
    {
      "cell_type": "markdown",
      "metadata": {
        "id": "oDkHBRY7Lsk2"
      },
      "source": [
        "**Treinando previsores_MI / target_MI com RandomForestClassifier**"
      ]
    },
    {
      "cell_type": "code",
      "metadata": {
        "id": "CbtdcIR2L3Bu",
        "colab": {
          "base_uri": "https://localhost:8080/"
        },
        "outputId": "b68297d1-6bc8-4071-b232-8e46af19fb36"
      },
      "source": [
        "modeloRandom.fit(X_train_MI, y_train_MI)"
      ],
      "execution_count": null,
      "outputs": [
        {
          "output_type": "execute_result",
          "data": {
            "text/plain": [
              "RandomForestClassifier(bootstrap=True, ccp_alpha=0.0, class_weight=None,\n",
              "                       criterion='gini', max_depth=None, max_features='auto',\n",
              "                       max_leaf_nodes=None, max_samples=None,\n",
              "                       min_impurity_decrease=0.0, min_impurity_split=None,\n",
              "                       min_samples_leaf=1, min_samples_split=2,\n",
              "                       min_weight_fraction_leaf=0.0, n_estimators=100,\n",
              "                       n_jobs=None, oob_score=False, random_state=None,\n",
              "                       verbose=0, warm_start=False)"
            ]
          },
          "metadata": {},
          "execution_count": 121
        }
      ]
    },
    {
      "cell_type": "code",
      "metadata": {
        "id": "uefHXjRQL9xm"
      },
      "source": [
        "previsoes_MI = modeloRandom.predict(X_test_MI)"
      ],
      "execution_count": null,
      "outputs": []
    },
    {
      "cell_type": "code",
      "metadata": {
        "id": "T2IANS9FMCFt",
        "colab": {
          "base_uri": "https://localhost:8080/",
          "height": 242
        },
        "outputId": "6ef0e2f9-c179-4865-9df5-da216a71d5b1"
      },
      "source": [
        "matriz_MI = confusion_matrix(y_test_MI, previsoes_MI)\n",
        "\n",
        "plt.figure(figsize = (5,3))\n",
        "sns.heatmap(matriz_MI, annot = True)\n",
        "plt.xlabel(\"Previsoes\")\n",
        "plt.ylabel(\"Resposta Certa\")"
      ],
      "execution_count": null,
      "outputs": [
        {
          "output_type": "execute_result",
          "data": {
            "text/plain": [
              "Text(24.0, 0.5, 'Resposta Certa')"
            ]
          },
          "metadata": {},
          "execution_count": 123
        },
        {
          "output_type": "display_data",
          "data": {
            "image/png": "[encoded data removed]",
            "text/plain": [
              "<Figure size 360x216 with 2 Axes>"
            ]
          },
          "metadata": {
            "needs_background": "light"
          }
        }
      ]
    },
    {
      "cell_type": "code",
      "metadata": {
        "id": "lxBtrSTRMKkJ"
      },
      "source": [
        "#Separando os valores TP-TN-FP-FN previosres/target_MI\n",
        "\n",
        "TP_MI = matriz_MI[0,0]\n",
        "TN_MI = matriz_MI[1,1]\n",
        "FP_MI = matriz_MI[1,0]\n",
        "FN_MI = matriz_MI[0,1]\n",
        "\n",
        "#Accuracy previosres/target_MI\n",
        "\n",
        "Accuracy_MI = accuracy_score(y_test_MI, previsoes_MI) * 100\n",
        "\n",
        "#F1_Score previsores/target_MI\n",
        "\n",
        "F1_MI = f1_score(y_test_MI, previsoes_MI, labels=None, pos_label=1, average='binary', sample_weight=None, zero_division='warn') * 100\n",
        "\n",
        "#MCC_Score previsores/target_cvd\n",
        "\n",
        "MCC_MI = matthews_corrcoef(y_test_MI, previsoes_MI) * 100\n",
        "\n",
        "# Sensitivity previsores/target_cvd\n",
        "\n",
        "sensitivity = recall_score(y_test_MI, previsoes_MI, labels=None, pos_label=1, average='micro', sample_weight=None, zero_division='warn')  * 100 # VP/(VP+FN)\n",
        "\n",
        "# Specificity previsores/target_cvd\n",
        "\n",
        "specificity_MI = TN_MI/(TN_MI+FP_MI) * 100"
      ],
      "execution_count": null,
      "outputs": []
    },
    {
      "cell_type": "code",
      "metadata": {
        "colab": {
          "base_uri": "https://localhost:8080/"
        },
        "id": "RaQGnprd0Sbg",
        "outputId": "3dfb8cce-3548-4cb5-d919-a94626533e63"
      },
      "source": [
        "print(f'Accuracy_MI: {round(Accuracy_MI,2)} %\\n\\nF1_MI: {round(F1_MI,2)} %\\n\\nMCC_MI: {round(MCC_MI,2)} %\\n\\nSensitivity_MI: {round(sensitivity,2)} %\\n\\nSpecificity_MI: {round(specificity_MI,2)} %')"
      ],
      "execution_count": null,
      "outputs": [
        {
          "output_type": "stream",
          "name": "stdout",
          "text": [
            "Accuracy_MI: 91.76 %\n",
            "\n",
            "F1_MI: 92.47 %\n",
            "\n",
            "MCC_MI: 83.39 %\n",
            "\n",
            "Sensitivity_MI: 91.76 %\n",
            "\n",
            "Specificity_MI: 93.1 %\n"
          ]
        }
      ]
    },
    {
      "cell_type": "markdown",
      "metadata": {
        "id": "ig5JcKeuLwS-"
      },
      "source": [
        "**Treinando previsores_ANGINA / target_ANGINA com RandomForestClassifier**"
      ]
    },
    {
      "cell_type": "code",
      "metadata": {
        "colab": {
          "base_uri": "https://localhost:8080/"
        },
        "id": "a7BmBybJEz2q",
        "outputId": "a5a712a0-ec8a-463e-b173-7c98e08ccc7a"
      },
      "source": [
        "modeloRandom.fit(X_train_ANGINA, y_train_ANGINA)"
      ],
      "execution_count": null,
      "outputs": [
        {
          "output_type": "execute_result",
          "data": {
            "text/plain": [
              "RandomForestClassifier(bootstrap=True, ccp_alpha=0.0, class_weight=None,\n",
              "                       criterion='gini', max_depth=None, max_features='auto',\n",
              "                       max_leaf_nodes=None, max_samples=None,\n",
              "                       min_impurity_decrease=0.0, min_impurity_split=None,\n",
              "                       min_samples_leaf=1, min_samples_split=2,\n",
              "                       min_weight_fraction_leaf=0.0, n_estimators=100,\n",
              "                       n_jobs=None, oob_score=False, random_state=None,\n",
              "                       verbose=0, warm_start=False)"
            ]
          },
          "metadata": {},
          "execution_count": 126
        }
      ]
    },
    {
      "cell_type": "code",
      "metadata": {
        "id": "_QIiHPisE44q"
      },
      "source": [
        "previsoes_ANGINA = modeloRandom.predict(X_test_ANGINA)"
      ],
      "execution_count": null,
      "outputs": []
    },
    {
      "cell_type": "code",
      "metadata": {
        "colab": {
          "base_uri": "https://localhost:8080/",
          "height": 242
        },
        "id": "NLcYLpK1FAY7",
        "outputId": "7d0add4f-155f-4724-ae45-c77c7de2a46c"
      },
      "source": [
        "matriz_ANGINA = confusion_matrix(y_test_ANGINA, previsoes_ANGINA)\n",
        "\n",
        "plt.figure(figsize = (5,3))\n",
        "sns.heatmap(matriz_ANGINA, annot = True)\n",
        "plt.xlabel(\"Previsoes\")\n",
        "plt.ylabel(\"Resposta Certa\")"
      ],
      "execution_count": null,
      "outputs": [
        {
          "output_type": "execute_result",
          "data": {
            "text/plain": [
              "Text(24.0, 0.5, 'Resposta Certa')"
            ]
          },
          "metadata": {},
          "execution_count": 128
        },
        {
          "output_type": "display_data",
          "data": {
            "image/png": "[encoded data removed]",
            "text/plain": [
              "<Figure size 360x216 with 2 Axes>"
            ]
          },
          "metadata": {
            "needs_background": "light"
          }
        }
      ]
    },
    {
      "cell_type": "code",
      "metadata": {
        "id": "N9mCAD_CFJEu"
      },
      "source": [
        "#Separando os valores TP-TN-FP-FN previosres/target_ANGINA\n",
        "\n",
        "TP_ANGINA = matriz_ANGINA[0,0]\n",
        "TN_ANGINA = matriz_ANGINA[1,1]\n",
        "FP_ANGINA = matriz_ANGINA[1,0]\n",
        "FN_ANGINA = matriz_ANGINA[0,1]\n",
        "\n",
        "#Accuracy previosres/target_ANGINA\n",
        "\n",
        "Accuracy_ANGINA = accuracy_score(y_test_ANGINA, previsoes_ANGINA) * 100\n",
        "\n",
        "#F1_Score previsores/target_ANGINA\n",
        "\n",
        "F1_ANGINA = f1_score(y_test_ANGINA, previsoes_ANGINA, labels=None, pos_label=1, average='binary', sample_weight=None, zero_division='warn') * 100\n",
        "\n",
        "#MCC_Score previsores/target_AGINA\n",
        "\n",
        "MCC_ANGINA = matthews_corrcoef(y_test_ANGINA, previsoes_ANGINA) * 100\n",
        "\n",
        "# Sensitivity previsores/target_ANGINA\n",
        "\n",
        "sensitivity_ANGINA = recall_score(y_test_MI, previsoes_MI, labels=None, pos_label=1, average='micro', sample_weight=None, zero_division='warn')  * 100 # VP/(VP+FN)\n",
        "\n",
        "# Specificity previsores/target_ANGINA\n",
        "\n",
        "specificity_ANGINA = TN_ANGINA/(TN_ANGINA+FP_ANGINA) * 100"
      ],
      "execution_count": null,
      "outputs": []
    },
    {
      "cell_type": "code",
      "metadata": {
        "colab": {
          "base_uri": "https://localhost:8080/"
        },
        "id": "Hyk9iZi7GRY1",
        "outputId": "955cce0a-b0bf-4146-f120-d141bcecad66"
      },
      "source": [
        "print(f'Accuracy_ANGINA: {round(Accuracy_ANGINA,2)} %\\n\\nF1_ANGINA: {round(F1_ANGINA,2)} %\\n\\nMCC_ANGINA: {round(MCC_ANGINA,2)} %\\n\\nSensitivity_ANGINA: {round(sensitivity,2)} %\\n\\nSpecificity_ANGINA: {round(specificity_ANGINA,2)} %')"
      ],
      "execution_count": null,
      "outputs": [
        {
          "output_type": "stream",
          "name": "stdout",
          "text": [
            "Accuracy_ANGINA: 92.02 %\n",
            "\n",
            "F1_ANGINA: 92.63 %\n",
            "\n",
            "MCC_ANGINA: 84.24 %\n",
            "\n",
            "Sensitivity_ANGINA: 91.76 %\n",
            "\n",
            "Specificity_ANGINA: 96.35 %\n"
          ]
        }
      ]
    },
    {
      "cell_type": "markdown",
      "metadata": {
        "id": "yAe8lqZYLzQH"
      },
      "source": [
        "**Treinando previsores_STROKE / target_STROKE com RandomForestClassifier**"
      ]
    },
    {
      "cell_type": "code",
      "metadata": {
        "colab": {
          "base_uri": "https://localhost:8080/"
        },
        "id": "OnXnLaMZGViG",
        "outputId": "3a3e4ad0-7cf1-4bf2-9b4a-955a7e99c848"
      },
      "source": [
        "modeloRandom.fit(X_train_STROKE, y_train_STROKE)"
      ],
      "execution_count": null,
      "outputs": [
        {
          "output_type": "execute_result",
          "data": {
            "text/plain": [
              "RandomForestClassifier(bootstrap=True, ccp_alpha=0.0, class_weight=None,\n",
              "                       criterion='gini', max_depth=None, max_features='auto',\n",
              "                       max_leaf_nodes=None, max_samples=None,\n",
              "                       min_impurity_decrease=0.0, min_impurity_split=None,\n",
              "                       min_samples_leaf=1, min_samples_split=2,\n",
              "                       min_weight_fraction_leaf=0.0, n_estimators=100,\n",
              "                       n_jobs=None, oob_score=False, random_state=None,\n",
              "                       verbose=0, warm_start=False)"
            ]
          },
          "metadata": {},
          "execution_count": 131
        }
      ]
    },
    {
      "cell_type": "code",
      "metadata": {
        "id": "ybjIb3GOGVJB"
      },
      "source": [
        "previsoes_STROKE = modeloRandom.predict(X_test_STROKE)"
      ],
      "execution_count": null,
      "outputs": []
    },
    {
      "cell_type": "code",
      "metadata": {
        "colab": {
          "base_uri": "https://localhost:8080/",
          "height": 242
        },
        "id": "Hr81RbNwGUxm",
        "outputId": "741dc2fc-cd3a-49e9-fbf5-71652dc910b9"
      },
      "source": [
        "matriz_STROKE = confusion_matrix(y_test_STROKE, previsoes_STROKE)\n",
        "\n",
        "plt.figure(figsize = (5,3))\n",
        "sns.heatmap(matriz_STROKE, annot = True)\n",
        "plt.xlabel(\"Previsoes\")\n",
        "plt.ylabel(\"Resposta Certa\")"
      ],
      "execution_count": null,
      "outputs": [
        {
          "output_type": "execute_result",
          "data": {
            "text/plain": [
              "Text(24.0, 0.5, 'Resposta Certa')"
            ]
          },
          "metadata": {},
          "execution_count": 133
        },
        {
          "output_type": "display_data",
          "data": {
            "image/png": "[encoded data removed]",
            "text/plain": [
              "<Figure size 360x216 with 2 Axes>"
            ]
          },
          "metadata": {
            "needs_background": "light"
          }
        }
      ]
    },
    {
      "cell_type": "code",
      "metadata": {
        "id": "ZDfmKOooGw3d"
      },
      "source": [
        "#Separando os valores TP-TN-FP-FN previosres/target_ANGINA\n",
        "\n",
        "TP_STROKE = matriz_STROKE[0,0]\n",
        "TN_STROKE = matriz_STROKE[1,1]\n",
        "FP_STROKE = matriz_STROKE[1,0]\n",
        "FN_STROKE = matriz_STROKE[0,1]\n",
        "\n",
        "#Accuracy previosres/target_ANGINA\n",
        "\n",
        "Accuracy_STROKE = accuracy_score(y_test_STROKE, previsoes_STROKE) * 100\n",
        "\n",
        "#F1_Score previsores/target_STROKE\n",
        "\n",
        "F1_STROKE = f1_score(y_test_STROKE, previsoes_STROKE, labels=None, pos_label=1, average='binary', sample_weight=None, zero_division='warn') * 100\n",
        "\n",
        "#MCC_Score previsores/target_STROKE\n",
        "\n",
        "MCC_STROKE = matthews_corrcoef(y_test_STROKE, previsoes_STROKE) * 100\n",
        "\n",
        "# Sensitivity previsores/target_STROKE\n",
        "\n",
        "sensitivity = recall_score(y_test_STROKE, previsoes_STROKE, labels=None, pos_label=1, average='micro', sample_weight=None, zero_division='warn') * 100 # VP/(VP+FN)\n",
        "\n",
        "# Specificity previsores/target_STROKE\n",
        "\n",
        "specificity_STROKE = TN_STROKE/(TN_STROKE+FP_STROKE) * 100"
      ],
      "execution_count": null,
      "outputs": []
    },
    {
      "cell_type": "code",
      "metadata": {
        "colab": {
          "base_uri": "https://localhost:8080/"
        },
        "id": "Gfp-pdDrG5B8",
        "outputId": "228468fd-d2bf-436b-ee69-b2dfcaa84e25"
      },
      "source": [
        "print(f'Accuracy_STROKE: {round(Accuracy_STROKE,2)} %\\n\\nF1_STROKE: {round(F1_STROKE,)} %\\n\\nMCC_STROKE: {round(MCC_STROKE,2)} %\\n\\nSensitivity_STROKE: {round(sensitivity,2)} %\\n\\nSpecificity_STROKE: {round(specificity_STROKE,2)} %')"
      ],
      "execution_count": null,
      "outputs": [
        {
          "output_type": "stream",
          "name": "stdout",
          "text": [
            "Accuracy_STROKE: 96.74 %\n",
            "\n",
            "F1_STROKE: 97 %\n",
            "\n",
            "MCC_STROKE: 93.5 %\n",
            "\n",
            "Sensitivity_STROKE: 96.74 %\n",
            "\n",
            "Specificity_STROKE: 98.63 %\n"
          ]
        }
      ]
    },
    {
      "cell_type": "markdown",
      "metadata": {
        "id": "0D2ohgSoKt5j"
      },
      "source": [
        "**Instânciando o algoritmo KNeighborsClassifier**"
      ]
    },
    {
      "cell_type": "code",
      "metadata": {
        "id": "3giBrQNUKzj3"
      },
      "source": [
        "modeloK = KNeighborsClassifier()"
      ],
      "execution_count": null,
      "outputs": []
    },
    {
      "cell_type": "markdown",
      "metadata": {
        "id": "ElRs-EY_HTVZ"
      },
      "source": [
        "**Treinando o Dataset com o algoritmo KNeighborsClassifier tendo como coluna a ser prevista a target_cvd**"
      ]
    },
    {
      "cell_type": "code",
      "metadata": {
        "colab": {
          "base_uri": "https://localhost:8080/"
        },
        "id": "9JPk2_9bHUBa",
        "outputId": "9d4939dc-8e3c-47c2-ada0-b8d542bd715b"
      },
      "source": [
        "modeloK.fit(X_train_cvd, y_train_cvd)"
      ],
      "execution_count": null,
      "outputs": [
        {
          "output_type": "execute_result",
          "data": {
            "text/plain": [
              "KNeighborsClassifier(algorithm='auto', leaf_size=30, metric='minkowski',\n",
              "                     metric_params=None, n_jobs=None, n_neighbors=5, p=2,\n",
              "                     weights='uniform')"
            ]
          },
          "metadata": {},
          "execution_count": 137
        }
      ]
    },
    {
      "cell_type": "code",
      "metadata": {
        "id": "xO_LeOt8HWwx"
      },
      "source": [
        "previsoes_cvd = modeloK.predict(X_test_cvd)"
      ],
      "execution_count": null,
      "outputs": []
    },
    {
      "cell_type": "code",
      "metadata": {
        "colab": {
          "base_uri": "https://localhost:8080/",
          "height": 242
        },
        "id": "hJV-6T1THZNA",
        "outputId": "e15e1d55-b49d-49b1-8f5a-c1aa2c628236"
      },
      "source": [
        "# Matriz de confusão target_cvd\n",
        "\n",
        "matriz_cvd = confusion_matrix(y_test_cvd, previsoes_cvd)\n",
        "plt.figure(figsize = (5,3))\n",
        "sns.heatmap(matriz_cvd, annot = True)\n",
        "plt.xlabel(\"Previsoes\")\n",
        "plt.ylabel(\"Resposta Certa\")"
      ],
      "execution_count": null,
      "outputs": [
        {
          "output_type": "execute_result",
          "data": {
            "text/plain": [
              "Text(24.0, 0.5, 'Resposta Certa')"
            ]
          },
          "metadata": {},
          "execution_count": 139
        },
        {
          "output_type": "display_data",
          "data": {
            "image/png": "[encoded data removed]",
            "text/plain": [
              "<Figure size 360x216 with 2 Axes>"
            ]
          },
          "metadata": {
            "needs_background": "light"
          }
        }
      ]
    },
    {
      "cell_type": "code",
      "metadata": {
        "id": "3ipw9f6NHcIB"
      },
      "source": [
        "#Separando os valores TP-TN-FP-FN previosres/target_cvd\n",
        "\n",
        "TP_cvd = matriz_cvd[0,0]\n",
        "TN_cvd = matriz_cvd[1,1]\n",
        "FP_cvd = matriz_cvd[1,0]\n",
        "FN_cvd = matriz_cvd[0,1]\n",
        "\n",
        "#Accuracy previosres/target_cvd\n",
        "\n",
        "Accuracy_cvd = accuracy_score(y_test_cvd, previsoes_cvd) * 100\n",
        "\n",
        "#F1_Score previsores/target_cvd\n",
        "\n",
        "F1_cvd = f1_score(y_test_cvd, previsoes_cvd, labels=None, pos_label=1, average='binary', sample_weight=None, zero_division='warn') * 100\n",
        "\n",
        "#MCC_Score previsores/target_cvd\n",
        "\n",
        "MCC_cvd = matthews_corrcoef(y_test_cvd, previsoes_cvd) * 100\n",
        "\n",
        "# Sensitivity previsores/target_cvd\n",
        "\n",
        "sensitivity = recall_score(y_test_cvd, previsoes_cvd, labels=None, pos_label=1, average='micro', sample_weight=None, zero_division='warn') * 100 # VP/(VP+FN)\n",
        "\n",
        "# Specificity previsores/target_cvd\n",
        "\n",
        "specificity_cvd = TN_cvd/(TN_cvd+FP_cvd) * 100"
      ],
      "execution_count": null,
      "outputs": []
    },
    {
      "cell_type": "code",
      "metadata": {
        "colab": {
          "base_uri": "https://localhost:8080/"
        },
        "id": "4BMD5OkgIs_p",
        "outputId": "61a32ec6-f0c9-4d53-ca9a-76ff3926d674"
      },
      "source": [
        "print(f'Accuracy_cvd: {round(Accuracy_cvd,2)} %\\n\\nF1_cvd: {round(F1_cvd,2)} %\\n\\nMCC_cvd: {round(MCC_cvd,2)} %\\n\\nSensitivity_cvd: {round(sensitivity,2)} %\\n\\nSpecificity_cvd: {round(specificity_cvd,2)} %')"
      ],
      "execution_count": null,
      "outputs": [
        {
          "output_type": "stream",
          "name": "stdout",
          "text": [
            "Accuracy_cvd: 73.73 %\n",
            "\n",
            "F1_cvd: 76.69 %\n",
            "\n",
            "MCC_cvd: 50.19 %\n",
            "\n",
            "Sensitivity_cvd: 73.73 %\n",
            "\n",
            "Specificity_cvd: 88.7 %\n"
          ]
        }
      ]
    },
    {
      "cell_type": "markdown",
      "metadata": {
        "id": "ecoINqD3JXyc"
      },
      "source": [
        "**Treinando o Dataset com o algoritmo KNeighborsClassifier tendo como coluna a ser prevista a target_MI**"
      ]
    },
    {
      "cell_type": "code",
      "metadata": {
        "colab": {
          "base_uri": "https://localhost:8080/"
        },
        "id": "UqI3LW-OJXUb",
        "outputId": "8e16947a-f9ae-4562-8a64-d5b61b4d0c54"
      },
      "source": [
        "modeloK.fit(X_train_MI, y_train_MI)"
      ],
      "execution_count": null,
      "outputs": [
        {
          "output_type": "execute_result",
          "data": {
            "text/plain": [
              "KNeighborsClassifier(algorithm='auto', leaf_size=30, metric='minkowski',\n",
              "                     metric_params=None, n_jobs=None, n_neighbors=5, p=2,\n",
              "                     weights='uniform')"
            ]
          },
          "metadata": {},
          "execution_count": 142
        }
      ]
    },
    {
      "cell_type": "code",
      "metadata": {
        "id": "jg4EKsHCK-vn"
      },
      "source": [
        "previsoes_MI = modeloK.predict(X_test_MI)"
      ],
      "execution_count": null,
      "outputs": []
    },
    {
      "cell_type": "code",
      "metadata": {
        "colab": {
          "base_uri": "https://localhost:8080/",
          "height": 246
        },
        "id": "i4_GGiKlLAtn",
        "outputId": "fb32b1dc-64a9-4d0f-c1d2-da456912111b"
      },
      "source": [
        "# Matriz de confusão target_MI\n",
        "\n",
        "matriz_MI = confusion_matrix(y_test_MI, previsoes_MI)\n",
        "plt.figure(figsize = (5,3))\n",
        "sns.heatmap(matriz_MI, annot = True)\n",
        "plt.xlabel(\"Previsoes\")\n",
        "plt.ylabel(\"Resposta Certa\")"
      ],
      "execution_count": null,
      "outputs": [
        {
          "output_type": "execute_result",
          "data": {
            "text/plain": [
              "Text(24.0, 0.5, 'Resposta Certa')"
            ]
          },
          "metadata": {},
          "execution_count": 144
        },
        {
          "output_type": "display_data",
          "data": {
            "image/png": "[encoded data removed]",
            "text/plain": [
              "<Figure size 360x216 with 2 Axes>"
            ]
          },
          "metadata": {
            "needs_background": "light"
          }
        }
      ]
    },
    {
      "cell_type": "code",
      "metadata": {
        "id": "iTJvFWJaLCZr"
      },
      "source": [
        "#Separando os valores TP-TN-FP-FN previosres/target_MI\n",
        "\n",
        "TP_MI = matriz_MI[0,0]\n",
        "TN_MI = matriz_MI[1,1]\n",
        "FP_MI = matriz_MI[1,0]\n",
        "FN_MI = matriz_MI[0,1]\n",
        "\n",
        "#Accuracy previosres/target_MI\n",
        "\n",
        "Accuracy_MI = accuracy_score(y_test_MI, previsoes_MI) * 100\n",
        "\n",
        "#F1_Score previsores/target_MI\n",
        "\n",
        "F1_MI = f1_score(y_test_MI, previsoes_MI, labels=None, pos_label=1, average='binary', sample_weight=None, zero_division='warn') * 100\n",
        "\n",
        "#MCC_Score previsores/target_cvd\n",
        "\n",
        "MCC_MI = matthews_corrcoef(y_test_MI, previsoes_MI) * 100\n",
        "\n",
        "# Sensitivity previsores/target_cvd\n",
        "\n",
        "sensitivity = recall_score(y_test_MI, previsoes_MI, labels=None, pos_label=1, average='micro', sample_weight=None, zero_division='warn')  * 100 # VP/(VP+FN)\n",
        "\n",
        "# Specificity previsores/target_cvd\n",
        "\n",
        "specificity_MI = TN_MI/(TN_MI+FP_MI) * 100"
      ],
      "execution_count": null,
      "outputs": []
    },
    {
      "cell_type": "code",
      "metadata": {
        "colab": {
          "base_uri": "https://localhost:8080/"
        },
        "id": "fxjgZ5eCLM_T",
        "outputId": "1a75c22e-b6e2-4552-8550-836476f9f39e"
      },
      "source": [
        "print(f'Accuracy_MI: {round(Accuracy_MI,2)} %\\n\\nF1_MI: {round(F1_MI,2)} %\\n\\nMCC_MI: {round(MCC_MI,2)} %\\n\\nSensitivity_MI: {round(sensitivity,2)} %\\n\\nSpecificity_MI: {round(specificity_MI,2)} %')"
      ],
      "execution_count": null,
      "outputs": [
        {
          "output_type": "stream",
          "name": "stdout",
          "text": [
            "Accuracy_MI: 80.15 %\n",
            "\n",
            "F1_MI: 84.08 %\n",
            "\n",
            "MCC_MI: 62.43 %\n",
            "\n",
            "Sensitivity_MI: 80.15 %\n",
            "\n",
            "Specificity_MI: 96.55 %\n"
          ]
        }
      ]
    },
    {
      "cell_type": "markdown",
      "metadata": {
        "id": "5hefspZrLRPf"
      },
      "source": [
        "**Treinando o Dataset com o algoritmo KNeighborsClassifier tendo como coluna a ser prevista a target_ANGINA**\n"
      ]
    },
    {
      "cell_type": "code",
      "metadata": {
        "colab": {
          "base_uri": "https://localhost:8080/"
        },
        "id": "bIMs_l7OLVlH",
        "outputId": "e8b9738b-c883-480a-aa5b-e48f45fe9f2b"
      },
      "source": [
        "modeloK.fit(X_train_ANGINA, y_train_ANGINA)"
      ],
      "execution_count": null,
      "outputs": [
        {
          "output_type": "execute_result",
          "data": {
            "text/plain": [
              "KNeighborsClassifier(algorithm='auto', leaf_size=30, metric='minkowski',\n",
              "                     metric_params=None, n_jobs=None, n_neighbors=5, p=2,\n",
              "                     weights='uniform')"
            ]
          },
          "metadata": {},
          "execution_count": 147
        }
      ]
    },
    {
      "cell_type": "code",
      "metadata": {
        "id": "YNLEMo3zLZMc"
      },
      "source": [
        "previsoes_ANGINA = modeloK.predict(X_test_ANGINA)"
      ],
      "execution_count": null,
      "outputs": []
    },
    {
      "cell_type": "code",
      "metadata": {
        "colab": {
          "base_uri": "https://localhost:8080/",
          "height": 242
        },
        "id": "-fMQ-ooQLb1n",
        "outputId": "7cad754a-1c7f-4669-b73b-bf710accbeb2"
      },
      "source": [
        "# Matriz de confusão target_ANGINA\n",
        "\n",
        "matriz_ANGINA = confusion_matrix(y_test_ANGINA, previsoes_ANGINA)\n",
        "plt.figure(figsize = (5,3))\n",
        "sns.heatmap(matriz_ANGINA, annot = True)\n",
        "plt.xlabel(\"Previsoes\")\n",
        "plt.ylabel(\"Resposta Certa\")"
      ],
      "execution_count": null,
      "outputs": [
        {
          "output_type": "execute_result",
          "data": {
            "text/plain": [
              "Text(24.0, 0.5, 'Resposta Certa')"
            ]
          },
          "metadata": {},
          "execution_count": 149
        },
        {
          "output_type": "display_data",
          "data": {
            "image/png": "[encoded data removed]",
            "text/plain": [
              "<Figure size 360x216 with 2 Axes>"
            ]
          },
          "metadata": {
            "needs_background": "light"
          }
        }
      ]
    },
    {
      "cell_type": "code",
      "metadata": {
        "id": "KIJzZzAMLd8Y"
      },
      "source": [
        "#Separando os valores TP-TN-FP-FN previosres/target_ANGINA\n",
        "\n",
        "TP_ANGINA = matriz_ANGINA[0,0]\n",
        "TN_ANGINA = matriz_ANGINA[1,1]\n",
        "FP_ANGINA = matriz_ANGINA[1,0]\n",
        "FN_ANGINA = matriz_ANGINA[0,1]\n",
        "\n",
        "#Accuracy previosres/target_ANGINA\n",
        "\n",
        "Accuracy_ANGINA = accuracy_score(y_test_ANGINA, previsoes_ANGINA) * 100\n",
        "\n",
        "#F1_Score previsores/target_ANGINA\n",
        "\n",
        "F1_ANGINA = f1_score(y_test_ANGINA, previsoes_ANGINA, labels=None, pos_label=1, average='binary', sample_weight=None, zero_division='warn') * 100\n",
        "\n",
        "#MCC_Score previsores/target_AGINA\n",
        "\n",
        "MCC_ANGINA = matthews_corrcoef(y_test_ANGINA, previsoes_ANGINA) * 100\n",
        "\n",
        "# Sensitivity previsores/target_ANGINA\n",
        "\n",
        "sensitivity_ANGINA = recall_score(y_test_MI, previsoes_MI, labels=None, pos_label=1, average='micro', sample_weight=None, zero_division='warn')  * 100 # VP/(VP+FN)\n",
        "\n",
        "# Specificity previsores/target_ANGINA\n",
        "\n",
        "specificity_ANGINA = TN_ANGINA/(TN_ANGINA+FP_ANGINA) * 100"
      ],
      "execution_count": null,
      "outputs": []
    },
    {
      "cell_type": "code",
      "metadata": {
        "colab": {
          "base_uri": "https://localhost:8080/"
        },
        "id": "cDehbqosLjKr",
        "outputId": "ed0cd807-a275-4001-f2e9-9337d08ca240"
      },
      "source": [
        "print(f'Accuracy_ANGINA: {round(Accuracy_ANGINA,2)} %\\n\\nF1_ANGINA: {round(F1_ANGINA,2)} %\\n\\nMCC_ANGINA: {round(MCC_ANGINA,2)} %\\n\\nSensitivity_ANGINA: {round(sensitivity,2)} %\\n\\nSpecificity_ANGINA: {round(specificity_ANGINA,2)} %')"
      ],
      "execution_count": null,
      "outputs": [
        {
          "output_type": "stream",
          "name": "stdout",
          "text": [
            "Accuracy_ANGINA: 75.29 %\n",
            "\n",
            "F1_ANGINA: 80.0 %\n",
            "\n",
            "MCC_ANGINA: 54.06 %\n",
            "\n",
            "Sensitivity_ANGINA: 80.15 %\n",
            "\n",
            "Specificity_ANGINA: 94.89 %\n"
          ]
        }
      ]
    },
    {
      "cell_type": "markdown",
      "metadata": {
        "id": "zErZ1qPbLxp8"
      },
      "source": [
        "**Treinando o Dataset com o algoritmo KNeighborsClassifier tendo como coluna a ser prevista a target_ANGINA**"
      ]
    },
    {
      "cell_type": "code",
      "metadata": {
        "colab": {
          "base_uri": "https://localhost:8080/"
        },
        "id": "CqIMwEiyLyyO",
        "outputId": "46a3ea54-181c-4bec-d5a0-9f9da0c42422"
      },
      "source": [
        "modeloK.fit(X_train_STROKE, y_train_STROKE)"
      ],
      "execution_count": null,
      "outputs": [
        {
          "output_type": "execute_result",
          "data": {
            "text/plain": [
              "KNeighborsClassifier(algorithm='auto', leaf_size=30, metric='minkowski',\n",
              "                     metric_params=None, n_jobs=None, n_neighbors=5, p=2,\n",
              "                     weights='uniform')"
            ]
          },
          "metadata": {},
          "execution_count": 152
        }
      ]
    },
    {
      "cell_type": "code",
      "metadata": {
        "id": "iJxwbkdlL2NK"
      },
      "source": [
        "previsoes_STROKE = modeloK.predict(X_test_STROKE)"
      ],
      "execution_count": null,
      "outputs": []
    },
    {
      "cell_type": "code",
      "metadata": {
        "colab": {
          "base_uri": "https://localhost:8080/",
          "height": 246
        },
        "id": "BIlEn17PL2rW",
        "outputId": "a6367c92-523d-4206-9620-e24070a6348c"
      },
      "source": [
        "# Matriz de confusão target_STROKE\n",
        "\n",
        "matriz_STROKE = confusion_matrix(y_test_STROKE, previsoes_STROKE)\n",
        "plt.figure(figsize = (5,3))\n",
        "sns.heatmap(matriz_STROKE, annot = True)\n",
        "plt.xlabel(\"Previsoes\")\n",
        "plt.ylabel(\"Resposta Certa\")"
      ],
      "execution_count": null,
      "outputs": [
        {
          "output_type": "execute_result",
          "data": {
            "text/plain": [
              "Text(24.0, 0.5, 'Resposta Certa')"
            ]
          },
          "metadata": {},
          "execution_count": 154
        },
        {
          "output_type": "display_data",
          "data": {
            "image/png": "[encoded data removed]",
            "text/plain": [
              "<Figure size 360x216 with 2 Axes>"
            ]
          },
          "metadata": {
            "needs_background": "light"
          }
        }
      ]
    },
    {
      "cell_type": "code",
      "metadata": {
        "id": "S5DSCty2L5wG"
      },
      "source": [
        "#Separando os valores TP-TN-FP-FN previosres/target_ANGINA\n",
        "\n",
        "TP_STROKE = matriz_STROKE[0,0]\n",
        "TN_STROKE = matriz_STROKE[1,1]\n",
        "FP_STROKE = matriz_STROKE[1,0]\n",
        "FN_STROKE = matriz_STROKE[0,1]\n",
        "\n",
        "#Accuracy previosres/target_ANGINA\n",
        "\n",
        "Accuracy_STROKE = accuracy_score(y_test_STROKE, previsoes_STROKE) * 100\n",
        "\n",
        "#F1_Score previsores/target_STROKE\n",
        "\n",
        "F1_STROKE = f1_score(y_test_STROKE, previsoes_STROKE, labels=None, pos_label=1, average='binary', sample_weight=None, zero_division='warn') * 100\n",
        "\n",
        "#MCC_Score previsores/target_STROKE\n",
        "\n",
        "MCC_STROKE = matthews_corrcoef(y_test_STROKE, previsoes_STROKE) * 100\n",
        "\n",
        "# Sensitivity previsores/target_STROKE\n",
        "\n",
        "sensitivity = recall_score(y_test_STROKE, previsoes_STROKE, labels=None, pos_label=1, average='micro', sample_weight=None, zero_division='warn') * 100 # VP/(VP+FN)\n",
        "\n",
        "# Specificity previsores/target_STROKE\n",
        "\n",
        "specificity_STROKE = TN_STROKE/(TN_STROKE+FP_STROKE) * 100"
      ],
      "execution_count": null,
      "outputs": []
    },
    {
      "cell_type": "code",
      "metadata": {
        "colab": {
          "base_uri": "https://localhost:8080/"
        },
        "id": "X4kyV_efL_5u",
        "outputId": "6555c9ee-63c8-45b3-b420-45ff08569346"
      },
      "source": [
        "print(f'Accuracy_STROKE: {round(Accuracy_STROKE,2)} %\\n\\nF1_STROKE: {round(F1_STROKE,)} %\\n\\nMCC_STROKE: {round(MCC_STROKE,2)} %\\n\\nSensitivity_STROKE: {round(sensitivity,2)} %\\n\\nSpecificity_STROKE: {round(specificity_STROKE,2)} %')"
      ],
      "execution_count": null,
      "outputs": [
        {
          "output_type": "stream",
          "name": "stdout",
          "text": [
            "Accuracy_STROKE: 78.26 %\n",
            "\n",
            "F1_STROKE: 82 %\n",
            "\n",
            "MCC_STROKE: 59.37 %\n",
            "\n",
            "Sensitivity_STROKE: 78.26 %\n",
            "\n",
            "Specificity_STROKE: 95.89 %\n"
          ]
        }
      ]
    },
    {
      "cell_type": "markdown",
      "metadata": {
        "id": "421ZGX-yOO4l"
      },
      "source": [
        "**Implementação do modelo de Rede Neural com camadas ocultas**"
      ]
    },
    {
      "cell_type": "code",
      "metadata": {
        "id": "vbifKITzOTux"
      },
      "source": [
        "#Criação da rede neural\n",
        "\n",
        "modelo = Sequential()"
      ],
      "execution_count": null,
      "outputs": []
    },
    {
      "cell_type": "code",
      "metadata": {
        "id": "nAYiSMTAOVq1"
      },
      "source": [
        "#Adicionando as camadas da Rede Neural\n",
        "\n",
        "modelo.add(Dense(units=8, activation='relu', input_dim = 15)) # Camada de entrada\n",
        "modelo.add(Dropout(0.3))\n",
        "\n",
        "modelo.add(Dense(units=8, activation='relu')) # Camada oculta\n",
        "modelo.add(Dropout(0.2))\n",
        "\n",
        "modelo.add(Dense(units=8, activation='relu')) # Camada oculta\n",
        "modelo.add(Dropout(0.2))\n",
        "\n",
        "modelo.add(Dense(units=1, activation='sigmoid')) # Camada de saída"
      ],
      "execution_count": null,
      "outputs": []
    },
    {
      "cell_type": "code",
      "metadata": {
        "id": "Tq_pSR5BOYqd"
      },
      "source": [
        "#Compilando a Rede Neural\n",
        "\n",
        "modelo.compile(loss='binary_crossentropy', optimizer='adam', metrics=['binary_accuracy'])"
      ],
      "execution_count": null,
      "outputs": []
    },
    {
      "cell_type": "markdown",
      "metadata": {
        "id": "222qRUATOeZt"
      },
      "source": [
        "**Treinando a rede neural com as bases previsores/target_cvd**"
      ]
    },
    {
      "cell_type": "code",
      "metadata": {
        "colab": {
          "base_uri": "https://localhost:8080/"
        },
        "id": "BIXhcI85Oazl",
        "outputId": "1487f629-c057-4999-d003-8bbf6ecfa87f"
      },
      "source": [
        "#Efetuando o treinamento da Rede Neural\n",
        "\n",
        "modelo.fit(X_train_cvd, y_train_cvd, epochs=100, batch_size=10)\n",
        "\n",
        "#Realizando previsão com a base de dado de teste\n",
        "\n",
        "previsoes_cvd = modelo.predict(X_test_cvd)\n",
        "\n",
        "#Convertendo os resultados em True ou False\n",
        "\n",
        "previsoes_cvd = (previsoes_cvd > 0.5)"
      ],
      "execution_count": null,
      "outputs": [
        {
          "output_type": "stream",
          "name": "stdout",
          "text": [
            "Epoch 1/100\n",
            "95/95 [==============================] - 1s 1ms/step - loss: 21.7432 - binary_accuracy: 0.5191\n",
            "Epoch 2/100\n",
            "95/95 [==============================] - 0s 1ms/step - loss: 7.0845 - binary_accuracy: 0.5021\n",
            "Epoch 3/100\n",
            "95/95 [==============================] - 0s 1ms/step - loss: 4.0371 - binary_accuracy: 0.4809\n",
            "Epoch 4/100\n",
            "95/95 [==============================] - 0s 1ms/step - loss: 1.9419 - binary_accuracy: 0.4831\n",
            "Epoch 5/100\n",
            "95/95 [==============================] - 0s 1ms/step - loss: 1.7011 - binary_accuracy: 0.5064\n",
            "Epoch 6/100\n",
            "95/95 [==============================] - 0s 1ms/step - loss: 1.2461 - binary_accuracy: 0.5244\n",
            "Epoch 7/100\n",
            "95/95 [==============================] - 0s 1ms/step - loss: 0.9324 - binary_accuracy: 0.5265\n",
            "Epoch 8/100\n",
            "95/95 [==============================] - 0s 1ms/step - loss: 0.8907 - binary_accuracy: 0.5169\n",
            "Epoch 9/100\n",
            "95/95 [==============================] - 0s 2ms/step - loss: 0.8701 - binary_accuracy: 0.5222\n",
            "Epoch 10/100\n",
            "95/95 [==============================] - 0s 1ms/step - loss: 0.9725 - binary_accuracy: 0.4979\n",
            "Epoch 11/100\n",
            "95/95 [==============================] - 0s 1ms/step - loss: 0.8175 - binary_accuracy: 0.5127\n",
            "Epoch 12/100\n",
            "95/95 [==============================] - 0s 1ms/step - loss: 0.7350 - binary_accuracy: 0.5106\n",
            "Epoch 13/100\n",
            "95/95 [==============================] - 0s 1ms/step - loss: 0.7704 - binary_accuracy: 0.5095\n",
            "Epoch 14/100\n",
            "95/95 [==============================] - 0s 1ms/step - loss: 0.7743 - binary_accuracy: 0.5201\n",
            "Epoch 15/100\n",
            "95/95 [==============================] - 0s 1ms/step - loss: 0.7692 - binary_accuracy: 0.5074\n",
            "Epoch 16/100\n",
            "95/95 [==============================] - 0s 1ms/step - loss: 0.7180 - binary_accuracy: 0.4968\n",
            "Epoch 17/100\n",
            "95/95 [==============================] - 0s 1ms/step - loss: 0.7757 - binary_accuracy: 0.5064\n",
            "Epoch 18/100\n",
            "95/95 [==============================] - 0s 2ms/step - loss: 0.7379 - binary_accuracy: 0.5117\n",
            "Epoch 19/100\n",
            "95/95 [==============================] - 0s 1ms/step - loss: 0.7376 - binary_accuracy: 0.5297\n",
            "Epoch 20/100\n",
            "95/95 [==============================] - 0s 1ms/step - loss: 0.7274 - binary_accuracy: 0.5032\n",
            "Epoch 21/100\n",
            "95/95 [==============================] - 0s 1ms/step - loss: 0.8001 - binary_accuracy: 0.5106\n",
            "Epoch 22/100\n",
            "95/95 [==============================] - 0s 1ms/step - loss: 0.7428 - binary_accuracy: 0.5148\n",
            "Epoch 23/100\n",
            "95/95 [==============================] - 0s 1ms/step - loss: 0.7006 - binary_accuracy: 0.5350\n",
            "Epoch 24/100\n",
            "95/95 [==============================] - 0s 1ms/step - loss: 0.7477 - binary_accuracy: 0.5053\n",
            "Epoch 25/100\n",
            "95/95 [==============================] - 0s 2ms/step - loss: 0.7083 - binary_accuracy: 0.5201\n",
            "Epoch 26/100\n",
            "95/95 [==============================] - 0s 1ms/step - loss: 0.6897 - binary_accuracy: 0.5350\n",
            "Epoch 27/100\n",
            "95/95 [==============================] - 0s 1ms/step - loss: 0.6993 - binary_accuracy: 0.5456\n",
            "Epoch 28/100\n",
            "95/95 [==============================] - 0s 1ms/step - loss: 0.7189 - binary_accuracy: 0.5286\n",
            "Epoch 29/100\n",
            "95/95 [==============================] - 0s 1ms/step - loss: 0.6961 - binary_accuracy: 0.5360\n",
            "Epoch 30/100\n",
            "95/95 [==============================] - 0s 1ms/step - loss: 0.7400 - binary_accuracy: 0.5180\n",
            "Epoch 31/100\n",
            "95/95 [==============================] - 0s 1ms/step - loss: 0.7496 - binary_accuracy: 0.5127\n",
            "Epoch 32/100\n",
            "95/95 [==============================] - 0s 2ms/step - loss: 0.7019 - binary_accuracy: 0.5212\n",
            "Epoch 33/100\n",
            "95/95 [==============================] - 0s 1ms/step - loss: 0.6969 - binary_accuracy: 0.5127\n",
            "Epoch 34/100\n",
            "95/95 [==============================] - 0s 1ms/step - loss: 0.6929 - binary_accuracy: 0.5265\n",
            "Epoch 35/100\n",
            "95/95 [==============================] - 0s 1ms/step - loss: 0.6924 - binary_accuracy: 0.5244\n",
            "Epoch 36/100\n",
            "95/95 [==============================] - 0s 1ms/step - loss: 0.6952 - binary_accuracy: 0.5297\n",
            "Epoch 37/100\n",
            "95/95 [==============================] - 0s 1ms/step - loss: 0.6994 - binary_accuracy: 0.5180\n",
            "Epoch 38/100\n",
            "95/95 [==============================] - 0s 1ms/step - loss: 0.6980 - binary_accuracy: 0.5244\n",
            "Epoch 39/100\n",
            "95/95 [==============================] - 0s 2ms/step - loss: 0.7050 - binary_accuracy: 0.5095\n",
            "Epoch 40/100\n",
            "95/95 [==============================] - 0s 1ms/step - loss: 0.6995 - binary_accuracy: 0.5117\n",
            "Epoch 41/100\n",
            "95/95 [==============================] - 0s 1ms/step - loss: 0.6949 - binary_accuracy: 0.5244\n",
            "Epoch 42/100\n",
            "95/95 [==============================] - 0s 1ms/step - loss: 0.6931 - binary_accuracy: 0.5191\n",
            "Epoch 43/100\n",
            "95/95 [==============================] - 0s 1ms/step - loss: 0.6986 - binary_accuracy: 0.5148\n",
            "Epoch 44/100\n",
            "95/95 [==============================] - 0s 1ms/step - loss: 0.6936 - binary_accuracy: 0.5265\n",
            "Epoch 45/100\n",
            "95/95 [==============================] - 0s 1ms/step - loss: 0.6942 - binary_accuracy: 0.5212\n",
            "Epoch 46/100\n",
            "95/95 [==============================] - 0s 2ms/step - loss: 0.6927 - binary_accuracy: 0.5127\n",
            "Epoch 47/100\n",
            "95/95 [==============================] - 0s 1ms/step - loss: 0.6912 - binary_accuracy: 0.5212\n",
            "Epoch 48/100\n",
            "95/95 [==============================] - 0s 1ms/step - loss: 0.6956 - binary_accuracy: 0.5286\n",
            "Epoch 49/100\n",
            "95/95 [==============================] - 0s 1ms/step - loss: 0.6927 - binary_accuracy: 0.5159\n",
            "Epoch 50/100\n",
            "95/95 [==============================] - 0s 1ms/step - loss: 0.6999 - binary_accuracy: 0.5328\n",
            "Epoch 51/100\n",
            "95/95 [==============================] - 0s 1ms/step - loss: 0.6929 - binary_accuracy: 0.5053\n",
            "Epoch 52/100\n",
            "95/95 [==============================] - 0s 1ms/step - loss: 0.6967 - binary_accuracy: 0.5148\n",
            "Epoch 53/100\n",
            "95/95 [==============================] - 0s 1ms/step - loss: 0.6916 - binary_accuracy: 0.5297\n",
            "Epoch 54/100\n",
            "95/95 [==============================] - 0s 1ms/step - loss: 0.6947 - binary_accuracy: 0.5212\n",
            "Epoch 55/100\n",
            "95/95 [==============================] - 0s 1ms/step - loss: 0.6973 - binary_accuracy: 0.5318\n",
            "Epoch 56/100\n",
            "95/95 [==============================] - 0s 2ms/step - loss: 0.6924 - binary_accuracy: 0.5286\n",
            "Epoch 57/100\n",
            "95/95 [==============================] - 0s 1ms/step - loss: 0.6934 - binary_accuracy: 0.5201\n",
            "Epoch 58/100\n",
            "95/95 [==============================] - 0s 1ms/step - loss: 0.6904 - binary_accuracy: 0.5445\n",
            "Epoch 59/100\n",
            "95/95 [==============================] - 0s 1ms/step - loss: 0.6924 - binary_accuracy: 0.5519\n",
            "Epoch 60/100\n",
            "95/95 [==============================] - 0s 1ms/step - loss: 0.6929 - binary_accuracy: 0.5011\n",
            "Epoch 61/100\n",
            "95/95 [==============================] - 0s 1ms/step - loss: 0.6919 - binary_accuracy: 0.5222\n",
            "Epoch 62/100\n",
            "95/95 [==============================] - 0s 2ms/step - loss: 0.6945 - binary_accuracy: 0.5212\n",
            "Epoch 63/100\n",
            "95/95 [==============================] - 0s 2ms/step - loss: 0.6988 - binary_accuracy: 0.5212\n",
            "Epoch 64/100\n",
            "95/95 [==============================] - 0s 2ms/step - loss: 0.6941 - binary_accuracy: 0.5212\n",
            "Epoch 65/100\n",
            "95/95 [==============================] - 0s 1ms/step - loss: 0.6925 - binary_accuracy: 0.5286\n",
            "Epoch 66/100\n",
            "95/95 [==============================] - 0s 1ms/step - loss: 0.6888 - binary_accuracy: 0.5360\n",
            "Epoch 67/100\n",
            "95/95 [==============================] - 0s 2ms/step - loss: 0.6892 - binary_accuracy: 0.5222\n",
            "Epoch 68/100\n",
            "95/95 [==============================] - 0s 1ms/step - loss: 0.6912 - binary_accuracy: 0.5328\n",
            "Epoch 69/100\n",
            "95/95 [==============================] - 0s 1ms/step - loss: 0.6913 - binary_accuracy: 0.5254\n",
            "Epoch 70/100\n",
            "95/95 [==============================] - 0s 2ms/step - loss: 0.6893 - binary_accuracy: 0.5222\n",
            "Epoch 71/100\n",
            "95/95 [==============================] - 0s 1ms/step - loss: 0.6940 - binary_accuracy: 0.5254\n",
            "Epoch 72/100\n",
            "95/95 [==============================] - 0s 2ms/step - loss: 0.6908 - binary_accuracy: 0.5445\n",
            "Epoch 73/100\n",
            "95/95 [==============================] - 0s 1ms/step - loss: 0.6924 - binary_accuracy: 0.5297\n",
            "Epoch 74/100\n",
            "95/95 [==============================] - 0s 1ms/step - loss: 0.7185 - binary_accuracy: 0.5222\n",
            "Epoch 75/100\n",
            "95/95 [==============================] - 0s 1ms/step - loss: 0.6935 - binary_accuracy: 0.5233\n",
            "Epoch 76/100\n",
            "95/95 [==============================] - 0s 1ms/step - loss: 0.6925 - binary_accuracy: 0.5233\n",
            "Epoch 77/100\n",
            "95/95 [==============================] - 0s 1ms/step - loss: 0.6910 - binary_accuracy: 0.5275\n",
            "Epoch 78/100\n",
            "95/95 [==============================] - 0s 2ms/step - loss: 0.6909 - binary_accuracy: 0.5286\n",
            "Epoch 79/100\n",
            "95/95 [==============================] - 0s 1ms/step - loss: 0.6932 - binary_accuracy: 0.5275\n",
            "Epoch 80/100\n",
            "95/95 [==============================] - 0s 2ms/step - loss: 0.6961 - binary_accuracy: 0.5233\n",
            "Epoch 81/100\n",
            "95/95 [==============================] - 0s 2ms/step - loss: 0.6924 - binary_accuracy: 0.5265\n",
            "Epoch 82/100\n",
            "95/95 [==============================] - 0s 1ms/step - loss: 0.6903 - binary_accuracy: 0.5318\n",
            "Epoch 83/100\n",
            "95/95 [==============================] - 0s 2ms/step - loss: 0.6926 - binary_accuracy: 0.5307\n",
            "Epoch 84/100\n",
            "95/95 [==============================] - 0s 2ms/step - loss: 0.6918 - binary_accuracy: 0.5191\n",
            "Epoch 85/100\n",
            "95/95 [==============================] - 0s 1ms/step - loss: 0.6920 - binary_accuracy: 0.5265\n",
            "Epoch 86/100\n",
            "95/95 [==============================] - 0s 1ms/step - loss: 0.6910 - binary_accuracy: 0.5328\n",
            "Epoch 87/100\n",
            "95/95 [==============================] - 0s 1ms/step - loss: 0.6912 - binary_accuracy: 0.5297\n",
            "Epoch 88/100\n",
            "95/95 [==============================] - 0s 1ms/step - loss: 0.6905 - binary_accuracy: 0.5328\n",
            "Epoch 89/100\n",
            "95/95 [==============================] - 0s 1ms/step - loss: 0.6894 - binary_accuracy: 0.5297\n",
            "Epoch 90/100\n",
            "95/95 [==============================] - 0s 1ms/step - loss: 0.6915 - binary_accuracy: 0.5307\n",
            "Epoch 91/100\n",
            "95/95 [==============================] - 0s 1ms/step - loss: 0.6912 - binary_accuracy: 0.5244\n",
            "Epoch 92/100\n",
            "95/95 [==============================] - 0s 1ms/step - loss: 0.6919 - binary_accuracy: 0.5254\n",
            "Epoch 93/100\n",
            "95/95 [==============================] - 0s 1ms/step - loss: 0.6922 - binary_accuracy: 0.5297\n",
            "Epoch 94/100\n",
            "95/95 [==============================] - 0s 1ms/step - loss: 0.6888 - binary_accuracy: 0.5233\n",
            "Epoch 95/100\n",
            "95/95 [==============================] - 0s 2ms/step - loss: 0.6902 - binary_accuracy: 0.5286\n",
            "Epoch 96/100\n",
            "95/95 [==============================] - 0s 2ms/step - loss: 0.6923 - binary_accuracy: 0.5286\n",
            "Epoch 97/100\n",
            "95/95 [==============================] - 0s 2ms/step - loss: 0.6914 - binary_accuracy: 0.5297\n",
            "Epoch 98/100\n",
            "95/95 [==============================] - 0s 1ms/step - loss: 0.6903 - binary_accuracy: 0.5307\n",
            "Epoch 99/100\n",
            "95/95 [==============================] - 0s 1ms/step - loss: 0.7012 - binary_accuracy: 0.5265\n",
            "Epoch 100/100\n",
            "95/95 [==============================] - 0s 1ms/step - loss: 0.6908 - binary_accuracy: 0.5286\n"
          ]
        }
      ]
    },
    {
      "cell_type": "code",
      "metadata": {
        "colab": {
          "base_uri": "https://localhost:8080/",
          "height": 245
        },
        "id": "qziuBgWuOjWl",
        "outputId": "b6cbbd07-cbfe-4349-83e4-dec596af5339"
      },
      "source": [
        "# Matriz de confusão target_cvd\n",
        "\n",
        "matriz_cvd = confusion_matrix(y_test_cvd, previsoes_cvd)\n",
        "plt.figure(figsize = (5,3))\n",
        "sns.heatmap(matriz_cvd, annot = True)\n",
        "plt.xlabel(\"Previsoes\")\n",
        "plt.ylabel(\"Resposta Certa\")"
      ],
      "execution_count": null,
      "outputs": [
        {
          "output_type": "execute_result",
          "data": {
            "text/plain": [
              "Text(24.0, 0.5, 'Resposta Certa')"
            ]
          },
          "metadata": {},
          "execution_count": 161
        },
        {
          "output_type": "display_data",
          "data": {
            "image/png": "[encoded data removed]",
            "text/plain": [
              "<Figure size 360x216 with 2 Axes>"
            ]
          },
          "metadata": {
            "needs_background": "light"
          }
        }
      ]
    },
    {
      "cell_type": "code",
      "metadata": {
        "colab": {
          "base_uri": "https://localhost:8080/"
        },
        "id": "8Dhj_gZAOlyt",
        "outputId": "d3152bf7-fcc3-4dea-cef6-f0feacb60adc"
      },
      "source": [
        "#Separando os valores TP-TN-FP-FN previosres/target_cvd\n",
        "\n",
        "TP_cvd = matriz_cvd[0,0]\n",
        "TN_cvd = matriz_cvd[1,1]\n",
        "FP_cvd = matriz_cvd[1,0]\n",
        "FN_cvd = matriz_cvd[0,1]\n",
        "\n",
        "#Accuracy previosres/target_cvd\n",
        "\n",
        "Accuracy_cvd = accuracy_score(y_test_cvd, previsoes_cvd) * 100\n",
        "\n",
        "#F1_Score previsores/target_cvd\n",
        "\n",
        "F1_cvd = f1_score(y_test_cvd, previsoes_cvd, labels=None, pos_label=1, average='binary', sample_weight=None, zero_division='warn') * 100\n",
        "\n",
        "#MCC_Score previsores/target_cvd\n",
        "\n",
        "MCC_cvd = matthews_corrcoef(y_test_cvd, previsoes_cvd) * 100\n",
        "\n",
        "# Sensitivity previsores/target_cvd\n",
        "\n",
        "sensitivity = recall_score(y_test_cvd, previsoes_cvd, labels=None, pos_label=1, average='micro', sample_weight=None, zero_division='warn') * 100 # VP/(VP+FN)\n",
        "\n",
        "# Specificity previsores/target_cvd\n",
        "\n",
        "specificity_cvd = TN_cvd/(TN_cvd+FP_cvd) * 100"
      ],
      "execution_count": null,
      "outputs": [
        {
          "output_type": "stream",
          "name": "stderr",
          "text": [
            "/usr/local/lib/python3.7/dist-packages/sklearn/metrics/_classification.py:900: RuntimeWarning: invalid value encountered in double_scalars\n",
            "  mcc = cov_ytyp / np.sqrt(cov_ytyt * cov_ypyp)\n"
          ]
        }
      ]
    },
    {
      "cell_type": "code",
      "metadata": {
        "colab": {
          "base_uri": "https://localhost:8080/"
        },
        "id": "8nSJbDrwOw0V",
        "outputId": "0eca7781-11c7-46a8-e1ce-e1fc22612227"
      },
      "source": [
        "print(f'Accuracy_cvd: {round(Accuracy_cvd,2)} %\\n\\nF1_cvd: {round(F1_cvd,2)} %\\n\\nMCC_cvd: {round(MCC_cvd,2)} %\\n\\nSensitivity_cvd: {round(sensitivity,2)} %\\n\\nSpecificity_cvd: {round(specificity_cvd,2)} %')"
      ],
      "execution_count": null,
      "outputs": [
        {
          "output_type": "stream",
          "name": "stdout",
          "text": [
            "Accuracy_cvd: 48.73 %\n",
            "\n",
            "F1_cvd: 65.53 %\n",
            "\n",
            "MCC_cvd: 0.0 %\n",
            "\n",
            "Sensitivity_cvd: 48.73 %\n",
            "\n",
            "Specificity_cvd: 100.0 %\n"
          ]
        }
      ]
    },
    {
      "cell_type": "markdown",
      "metadata": {
        "id": "IA6X1bm5O2pi"
      },
      "source": [
        "**Treinando a rede neural com as bases previsores/target_MI**"
      ]
    },
    {
      "cell_type": "code",
      "metadata": {
        "colab": {
          "base_uri": "https://localhost:8080/"
        },
        "id": "zyGlimPtO7SF",
        "outputId": "357ffb92-d635-4452-ba33-062851f4d73e"
      },
      "source": [
        "#Efetuando o treinamento da Rede Neural\n",
        "\n",
        "modelo.fit(X_train_MI, y_train_MI, epochs=100, batch_size=10)\n",
        "\n",
        "#Realizando previsão com a base de dado de teste\n",
        "\n",
        "previsoes_MI = modelo.predict(X_test_MI)\n",
        "\n",
        "#Convertendo os resultados em True ou False\n",
        "\n",
        "previsoes_MI = (previsoes_MI > 0.5)"
      ],
      "execution_count": null,
      "outputs": [
        {
          "output_type": "stream",
          "name": "stdout",
          "text": [
            "Epoch 1/100\n",
            "107/107 [==============================] - 0s 2ms/step - loss: 0.6872 - binary_accuracy: 0.5427\n",
            "Epoch 2/100\n",
            "107/107 [==============================] - 0s 1ms/step - loss: 0.6885 - binary_accuracy: 0.5418\n",
            "Epoch 3/100\n",
            "107/107 [==============================] - 0s 1ms/step - loss: 0.6866 - binary_accuracy: 0.5437\n",
            "Epoch 4/100\n",
            "107/107 [==============================] - 0s 2ms/step - loss: 0.6848 - binary_accuracy: 0.5427\n",
            "Epoch 5/100\n",
            "107/107 [==============================] - 0s 2ms/step - loss: 0.6833 - binary_accuracy: 0.5437\n",
            "Epoch 6/100\n",
            "107/107 [==============================] - 0s 2ms/step - loss: 0.6835 - binary_accuracy: 0.5427\n",
            "Epoch 7/100\n",
            "107/107 [==============================] - 0s 1ms/step - loss: 0.6890 - binary_accuracy: 0.5418\n",
            "Epoch 8/100\n",
            "107/107 [==============================] - 0s 1ms/step - loss: 0.6868 - binary_accuracy: 0.5427\n",
            "Epoch 9/100\n",
            "107/107 [==============================] - 0s 2ms/step - loss: 0.6799 - binary_accuracy: 0.5427\n",
            "Epoch 10/100\n",
            "107/107 [==============================] - 0s 2ms/step - loss: 0.6823 - binary_accuracy: 0.5427\n",
            "Epoch 11/100\n",
            "107/107 [==============================] - 0s 1ms/step - loss: 0.6863 - binary_accuracy: 0.5437\n",
            "Epoch 12/100\n",
            "107/107 [==============================] - 0s 1ms/step - loss: 0.6828 - binary_accuracy: 0.5427\n",
            "Epoch 13/100\n",
            "107/107 [==============================] - 0s 1ms/step - loss: 0.6787 - binary_accuracy: 0.5427\n",
            "Epoch 14/100\n",
            "107/107 [==============================] - 0s 1ms/step - loss: 0.6802 - binary_accuracy: 0.5418\n",
            "Epoch 15/100\n",
            "107/107 [==============================] - 0s 2ms/step - loss: 0.6712 - binary_accuracy: 0.5418\n",
            "Epoch 16/100\n",
            "107/107 [==============================] - 0s 1ms/step - loss: 0.6735 - binary_accuracy: 0.5408\n",
            "Epoch 17/100\n",
            "107/107 [==============================] - 0s 2ms/step - loss: 0.6744 - binary_accuracy: 0.5427\n",
            "Epoch 18/100\n",
            "107/107 [==============================] - 0s 2ms/step - loss: 0.6716 - binary_accuracy: 0.5418\n",
            "Epoch 19/100\n",
            "107/107 [==============================] - 0s 1ms/step - loss: 0.6761 - binary_accuracy: 0.5437\n",
            "Epoch 20/100\n",
            "107/107 [==============================] - 0s 1ms/step - loss: 0.6696 - binary_accuracy: 0.5437\n",
            "Epoch 21/100\n",
            "107/107 [==============================] - 0s 1ms/step - loss: 0.6797 - binary_accuracy: 0.5352\n",
            "Epoch 22/100\n",
            "107/107 [==============================] - 0s 1ms/step - loss: 0.6763 - binary_accuracy: 0.5437\n",
            "Epoch 23/100\n",
            "107/107 [==============================] - 0s 1ms/step - loss: 0.6761 - binary_accuracy: 0.5474\n",
            "Epoch 24/100\n",
            "107/107 [==============================] - 0s 1ms/step - loss: 0.6737 - binary_accuracy: 0.5615\n",
            "Epoch 25/100\n",
            "107/107 [==============================] - 0s 1ms/step - loss: 0.6774 - binary_accuracy: 0.5484\n",
            "Epoch 26/100\n",
            "107/107 [==============================] - 0s 1ms/step - loss: 0.6739 - binary_accuracy: 0.5737\n",
            "Epoch 27/100\n",
            "107/107 [==============================] - 0s 2ms/step - loss: 0.6708 - binary_accuracy: 0.5596\n",
            "Epoch 28/100\n",
            "107/107 [==============================] - 0s 2ms/step - loss: 0.6753 - binary_accuracy: 0.5756\n",
            "Epoch 29/100\n",
            "107/107 [==============================] - 0s 1ms/step - loss: 0.6702 - binary_accuracy: 0.5671\n",
            "Epoch 30/100\n",
            "107/107 [==============================] - 0s 2ms/step - loss: 0.6647 - binary_accuracy: 0.5746\n",
            "Epoch 31/100\n",
            "107/107 [==============================] - 0s 1ms/step - loss: 0.6770 - binary_accuracy: 0.5681\n",
            "Epoch 32/100\n",
            "107/107 [==============================] - 0s 1ms/step - loss: 0.6709 - binary_accuracy: 0.5662\n",
            "Epoch 33/100\n",
            "107/107 [==============================] - 0s 1ms/step - loss: 0.6641 - binary_accuracy: 0.5803\n",
            "Epoch 34/100\n",
            "107/107 [==============================] - 0s 1ms/step - loss: 0.6683 - binary_accuracy: 0.5831\n",
            "Epoch 35/100\n",
            "107/107 [==============================] - 0s 1ms/step - loss: 0.6717 - binary_accuracy: 0.5624\n",
            "Epoch 36/100\n",
            "107/107 [==============================] - 0s 2ms/step - loss: 0.6752 - binary_accuracy: 0.5690\n",
            "Epoch 37/100\n",
            "107/107 [==============================] - 0s 1ms/step - loss: 0.6703 - binary_accuracy: 0.5765\n",
            "Epoch 38/100\n",
            "107/107 [==============================] - 0s 1ms/step - loss: 0.6557 - binary_accuracy: 0.5944\n",
            "Epoch 39/100\n",
            "107/107 [==============================] - 0s 2ms/step - loss: 0.6806 - binary_accuracy: 0.5662\n",
            "Epoch 40/100\n",
            "107/107 [==============================] - 0s 1ms/step - loss: 0.6689 - binary_accuracy: 0.5634\n",
            "Epoch 41/100\n",
            "107/107 [==============================] - 0s 2ms/step - loss: 0.6665 - binary_accuracy: 0.5746\n",
            "Epoch 42/100\n",
            "107/107 [==============================] - 0s 2ms/step - loss: 0.6629 - binary_accuracy: 0.5700\n",
            "Epoch 43/100\n",
            "107/107 [==============================] - 0s 1ms/step - loss: 0.6706 - binary_accuracy: 0.5634\n",
            "Epoch 44/100\n",
            "107/107 [==============================] - 0s 1ms/step - loss: 0.6721 - binary_accuracy: 0.5812\n",
            "Epoch 45/100\n",
            "107/107 [==============================] - 0s 1ms/step - loss: 0.6621 - binary_accuracy: 0.5765\n",
            "Epoch 46/100\n",
            "107/107 [==============================] - 0s 1ms/step - loss: 0.6580 - binary_accuracy: 0.5803\n",
            "Epoch 47/100\n",
            "107/107 [==============================] - 0s 1ms/step - loss: 0.6649 - binary_accuracy: 0.5718\n",
            "Epoch 48/100\n",
            "107/107 [==============================] - 0s 1ms/step - loss: 0.6622 - binary_accuracy: 0.5831\n",
            "Epoch 49/100\n",
            "107/107 [==============================] - 0s 2ms/step - loss: 0.6574 - binary_accuracy: 0.6038\n",
            "Epoch 50/100\n",
            "107/107 [==============================] - 0s 1ms/step - loss: 0.6602 - binary_accuracy: 0.5850\n",
            "Epoch 51/100\n",
            "107/107 [==============================] - 0s 2ms/step - loss: 0.6767 - binary_accuracy: 0.5690\n",
            "Epoch 52/100\n",
            "107/107 [==============================] - 0s 1ms/step - loss: 0.6617 - binary_accuracy: 0.5840\n",
            "Epoch 53/100\n",
            "107/107 [==============================] - 0s 1ms/step - loss: 0.6619 - binary_accuracy: 0.5803\n",
            "Epoch 54/100\n",
            "107/107 [==============================] - 0s 1ms/step - loss: 0.6515 - binary_accuracy: 0.5953\n",
            "Epoch 55/100\n",
            "107/107 [==============================] - 0s 2ms/step - loss: 0.6574 - binary_accuracy: 0.5728\n",
            "Epoch 56/100\n",
            "107/107 [==============================] - 0s 1ms/step - loss: 0.6541 - binary_accuracy: 0.6103\n",
            "Epoch 57/100\n",
            "107/107 [==============================] - 0s 1ms/step - loss: 0.6605 - binary_accuracy: 0.5906\n",
            "Epoch 58/100\n",
            "107/107 [==============================] - 0s 2ms/step - loss: 0.6641 - binary_accuracy: 0.5869\n",
            "Epoch 59/100\n",
            "107/107 [==============================] - 0s 2ms/step - loss: 0.6680 - binary_accuracy: 0.5653\n",
            "Epoch 60/100\n",
            "107/107 [==============================] - 0s 1ms/step - loss: 0.6680 - binary_accuracy: 0.5643\n",
            "Epoch 61/100\n",
            "107/107 [==============================] - 0s 2ms/step - loss: 0.6557 - binary_accuracy: 0.5887\n",
            "Epoch 62/100\n",
            "107/107 [==============================] - 0s 2ms/step - loss: 0.6619 - binary_accuracy: 0.5822\n",
            "Epoch 63/100\n",
            "107/107 [==============================] - 0s 1ms/step - loss: 0.6565 - binary_accuracy: 0.5991\n",
            "Epoch 64/100\n",
            "107/107 [==============================] - 0s 2ms/step - loss: 0.6429 - binary_accuracy: 0.6160\n",
            "Epoch 65/100\n",
            "107/107 [==============================] - 0s 1ms/step - loss: 0.6628 - binary_accuracy: 0.6019\n",
            "Epoch 66/100\n",
            "107/107 [==============================] - 0s 1ms/step - loss: 0.6531 - binary_accuracy: 0.6019\n",
            "Epoch 67/100\n",
            "107/107 [==============================] - 0s 1ms/step - loss: 0.6537 - binary_accuracy: 0.5934\n",
            "Epoch 68/100\n",
            "107/107 [==============================] - 0s 1ms/step - loss: 0.6735 - binary_accuracy: 0.5643\n",
            "Epoch 69/100\n",
            "107/107 [==============================] - 0s 2ms/step - loss: 0.6547 - binary_accuracy: 0.5859\n",
            "Epoch 70/100\n",
            "107/107 [==============================] - 0s 1ms/step - loss: 0.6493 - binary_accuracy: 0.5972\n",
            "Epoch 71/100\n",
            "107/107 [==============================] - 0s 1ms/step - loss: 0.6466 - binary_accuracy: 0.6150\n",
            "Epoch 72/100\n",
            "107/107 [==============================] - 0s 2ms/step - loss: 0.6459 - binary_accuracy: 0.6038\n",
            "Epoch 73/100\n",
            "107/107 [==============================] - 0s 2ms/step - loss: 0.6549 - binary_accuracy: 0.5981\n",
            "Epoch 74/100\n",
            "107/107 [==============================] - 0s 1ms/step - loss: 0.6542 - binary_accuracy: 0.6038\n",
            "Epoch 75/100\n",
            "107/107 [==============================] - 0s 2ms/step - loss: 0.6553 - binary_accuracy: 0.5906\n",
            "Epoch 76/100\n",
            "107/107 [==============================] - 0s 2ms/step - loss: 0.6641 - binary_accuracy: 0.5784\n",
            "Epoch 77/100\n",
            "107/107 [==============================] - 0s 2ms/step - loss: 0.6503 - binary_accuracy: 0.5962\n",
            "Epoch 78/100\n",
            "107/107 [==============================] - 0s 1ms/step - loss: 0.6556 - binary_accuracy: 0.6094\n",
            "Epoch 79/100\n",
            "107/107 [==============================] - 0s 2ms/step - loss: 0.6512 - binary_accuracy: 0.5953\n",
            "Epoch 80/100\n",
            "107/107 [==============================] - 0s 1ms/step - loss: 0.6480 - binary_accuracy: 0.6056\n",
            "Epoch 81/100\n",
            "107/107 [==============================] - 0s 1ms/step - loss: 0.6641 - binary_accuracy: 0.5765\n",
            "Epoch 82/100\n",
            "107/107 [==============================] - 0s 1ms/step - loss: 0.6642 - binary_accuracy: 0.5972\n",
            "Epoch 83/100\n",
            "107/107 [==============================] - 0s 1ms/step - loss: 0.6544 - binary_accuracy: 0.6047\n",
            "Epoch 84/100\n",
            "107/107 [==============================] - 0s 2ms/step - loss: 0.6569 - binary_accuracy: 0.5869\n",
            "Epoch 85/100\n",
            "107/107 [==============================] - 0s 1ms/step - loss: 0.6604 - binary_accuracy: 0.5991\n",
            "Epoch 86/100\n",
            "107/107 [==============================] - 0s 2ms/step - loss: 0.6568 - binary_accuracy: 0.5831\n",
            "Epoch 87/100\n",
            "107/107 [==============================] - 0s 2ms/step - loss: 0.6483 - binary_accuracy: 0.6019\n",
            "Epoch 88/100\n",
            "107/107 [==============================] - 0s 2ms/step - loss: 0.6522 - binary_accuracy: 0.5887\n",
            "Epoch 89/100\n",
            "107/107 [==============================] - 0s 2ms/step - loss: 0.6541 - binary_accuracy: 0.5869\n",
            "Epoch 90/100\n",
            "107/107 [==============================] - 0s 2ms/step - loss: 0.6456 - binary_accuracy: 0.6150\n",
            "Epoch 91/100\n",
            "107/107 [==============================] - 0s 2ms/step - loss: 0.6551 - binary_accuracy: 0.5915\n",
            "Epoch 92/100\n",
            "107/107 [==============================] - 0s 2ms/step - loss: 0.6421 - binary_accuracy: 0.6188\n",
            "Epoch 93/100\n",
            "107/107 [==============================] - 0s 2ms/step - loss: 0.6574 - binary_accuracy: 0.6009\n",
            "Epoch 94/100\n",
            "107/107 [==============================] - 0s 2ms/step - loss: 0.6558 - binary_accuracy: 0.5812\n",
            "Epoch 95/100\n",
            "107/107 [==============================] - 0s 1ms/step - loss: 0.6565 - binary_accuracy: 0.5803\n",
            "Epoch 96/100\n",
            "107/107 [==============================] - 0s 1ms/step - loss: 0.6488 - binary_accuracy: 0.6047\n",
            "Epoch 97/100\n",
            "107/107 [==============================] - 0s 1ms/step - loss: 0.6445 - binary_accuracy: 0.6085\n",
            "Epoch 98/100\n",
            "107/107 [==============================] - 0s 2ms/step - loss: 0.6470 - binary_accuracy: 0.5915\n",
            "Epoch 99/100\n",
            "107/107 [==============================] - 0s 1ms/step - loss: 0.6441 - binary_accuracy: 0.6075\n",
            "Epoch 100/100\n",
            "107/107 [==============================] - 0s 2ms/step - loss: 0.6432 - binary_accuracy: 0.5915\n"
          ]
        }
      ]
    },
    {
      "cell_type": "code",
      "metadata": {
        "colab": {
          "base_uri": "https://localhost:8080/",
          "height": 246
        },
        "id": "q8cnYbGlO_T9",
        "outputId": "00a7726a-9e20-4ca6-a6d0-991d5028f09a"
      },
      "source": [
        "# Matriz de confusão target_MI\n",
        "\n",
        "matriz_MI = confusion_matrix(y_test_MI, previsoes_MI)\n",
        "plt.figure(figsize = (5,3))\n",
        "sns.heatmap(matriz_MI, annot = True)\n",
        "plt.xlabel(\"Previsoes\")\n",
        "plt.ylabel(\"Resposta Certa\")"
      ],
      "execution_count": null,
      "outputs": [
        {
          "output_type": "execute_result",
          "data": {
            "text/plain": [
              "Text(24.0, 0.5, 'Resposta Certa')"
            ]
          },
          "metadata": {},
          "execution_count": 165
        },
        {
          "output_type": "display_data",
          "data": {
            "image/png": "[encoded data removed]",
            "text/plain": [
              "<Figure size 360x216 with 2 Axes>"
            ]
          },
          "metadata": {
            "needs_background": "light"
          }
        }
      ]
    },
    {
      "cell_type": "code",
      "metadata": {
        "id": "KamClxCYPCju"
      },
      "source": [
        "#Separando os valores TP-TN-FP-FN previosres/target_MI\n",
        "\n",
        "TP_MI = matriz_MI[0,0]\n",
        "TN_MI = matriz_MI[1,1]\n",
        "FP_MI = matriz_MI[1,0]\n",
        "FN_MI = matriz_MI[0,1]\n",
        "\n",
        "#Accuracy previosres/target_MI\n",
        "\n",
        "Accuracy_MI = accuracy_score(y_test_MI, previsoes_MI) * 100\n",
        "\n",
        "#F1_Score previsores/target_MI\n",
        "\n",
        "F1_MI = f1_score(y_test_MI, previsoes_MI, labels=None, pos_label=1, average='binary', sample_weight=None, zero_division='warn') * 100\n",
        "\n",
        "#MCC_Score previsores/target_cvd\n",
        "\n",
        "MCC_MI = matthews_corrcoef(y_test_MI, previsoes_MI) * 100\n",
        "\n",
        "# Sensitivity previsores/target_cvd\n",
        "\n",
        "sensitivity = recall_score(y_test_MI, previsoes_MI, labels=None, pos_label=1, average='micro', sample_weight=None, zero_division='warn')  * 100 # VP/(VP+FN)\n",
        "\n",
        "# Specificity previsores/target_cvd\n",
        "\n",
        "specificity_MI = TN_MI/(TN_MI+FP_MI) * 100"
      ],
      "execution_count": null,
      "outputs": []
    },
    {
      "cell_type": "code",
      "metadata": {
        "colab": {
          "base_uri": "https://localhost:8080/"
        },
        "id": "xbPQqaCzPJzt",
        "outputId": "7c3d1d7c-54d2-4627-fdaf-41d14c9b88d7"
      },
      "source": [
        "print(f'Accuracy_MI: {round(Accuracy_MI,2)} %\\n\\nF1_MI: {round(F1_MI,2)} %\\n\\nMCC_MI: {round(MCC_MI,2)} %\\n\\nSensitivity_MI: {round(sensitivity,2)} %\\n\\nSpecificity_MI: {round(specificity_MI,2)} %')"
      ],
      "execution_count": null,
      "outputs": [
        {
          "output_type": "stream",
          "name": "stdout",
          "text": [
            "Accuracy_MI: 64.42 %\n",
            "\n",
            "F1_MI: 65.45 %\n",
            "\n",
            "MCC_MI: 29.18 %\n",
            "\n",
            "Sensitivity_MI: 64.42 %\n",
            "\n",
            "Specificity_MI: 62.07 %\n"
          ]
        }
      ]
    },
    {
      "cell_type": "markdown",
      "metadata": {
        "id": "xrVQogy7POzQ"
      },
      "source": [
        "**Treinando a rede neural com as bases previsores/target_ANGINA**"
      ]
    },
    {
      "cell_type": "code",
      "metadata": {
        "colab": {
          "base_uri": "https://localhost:8080/"
        },
        "id": "XniUMErEPRck",
        "outputId": "a586d7c0-630a-480e-e21d-7979213c6a3d"
      },
      "source": [
        "#Efetuando o treinamento da Rede Neural\n",
        "\n",
        "modelo.fit(X_train_ANGINA, y_train_ANGINA, epochs=100, batch_size=10)\n",
        "\n",
        "#Realizando previsão com a base de dado de teste\n",
        "\n",
        "previsoes_ANGINA = modelo.predict(X_test_ANGINA)\n",
        "\n",
        "#Convertendo os resultados em True ou False\n",
        "\n",
        "previsoes_ANGINA = (previsoes_ANGINA > 0.5)"
      ],
      "execution_count": null,
      "outputs": [
        {
          "output_type": "stream",
          "name": "stdout",
          "text": [
            "Epoch 1/100\n",
            "105/105 [==============================] - 0s 2ms/step - loss: 0.7030 - binary_accuracy: 0.4900\n",
            "Epoch 2/100\n",
            "105/105 [==============================] - 0s 1ms/step - loss: 0.7061 - binary_accuracy: 0.4852\n",
            "Epoch 3/100\n",
            "105/105 [==============================] - 0s 1ms/step - loss: 0.6968 - binary_accuracy: 0.4824\n",
            "Epoch 4/100\n",
            "105/105 [==============================] - 0s 1ms/step - loss: 0.6911 - binary_accuracy: 0.4843\n",
            "Epoch 5/100\n",
            "105/105 [==============================] - 0s 1ms/step - loss: 0.6875 - binary_accuracy: 0.5348\n",
            "Epoch 6/100\n",
            "105/105 [==============================] - 0s 2ms/step - loss: 0.6803 - binary_accuracy: 0.5529\n",
            "Epoch 7/100\n",
            "105/105 [==============================] - 0s 2ms/step - loss: 0.6849 - binary_accuracy: 0.5586\n",
            "Epoch 8/100\n",
            "105/105 [==============================] - 0s 1ms/step - loss: 0.6798 - binary_accuracy: 0.5577\n",
            "Epoch 9/100\n",
            "105/105 [==============================] - 0s 1ms/step - loss: 0.6785 - binary_accuracy: 0.5605\n",
            "Epoch 10/100\n",
            "105/105 [==============================] - 0s 1ms/step - loss: 0.6845 - binary_accuracy: 0.5586\n",
            "Epoch 11/100\n",
            "105/105 [==============================] - 0s 1ms/step - loss: 0.6751 - binary_accuracy: 0.5596\n",
            "Epoch 12/100\n",
            "105/105 [==============================] - 0s 1ms/step - loss: 0.6768 - binary_accuracy: 0.5577\n",
            "Epoch 13/100\n",
            "105/105 [==============================] - 0s 2ms/step - loss: 0.6821 - binary_accuracy: 0.5624\n",
            "Epoch 14/100\n",
            "105/105 [==============================] - 0s 2ms/step - loss: 0.6699 - binary_accuracy: 0.5758\n",
            "Epoch 15/100\n",
            "105/105 [==============================] - 0s 1ms/step - loss: 0.6652 - binary_accuracy: 0.5872\n",
            "Epoch 16/100\n",
            "105/105 [==============================] - 0s 1ms/step - loss: 0.6704 - binary_accuracy: 0.5929\n",
            "Epoch 17/100\n",
            "105/105 [==============================] - 0s 1ms/step - loss: 0.6699 - binary_accuracy: 0.5758\n",
            "Epoch 18/100\n",
            "105/105 [==============================] - 0s 1ms/step - loss: 0.6697 - binary_accuracy: 0.5767\n",
            "Epoch 19/100\n",
            "105/105 [==============================] - 0s 1ms/step - loss: 0.6713 - binary_accuracy: 0.5786\n",
            "Epoch 20/100\n",
            "105/105 [==============================] - 0s 2ms/step - loss: 0.6652 - binary_accuracy: 0.5825\n",
            "Epoch 21/100\n",
            "105/105 [==============================] - 0s 1ms/step - loss: 0.6715 - binary_accuracy: 0.5825\n",
            "Epoch 22/100\n",
            "105/105 [==============================] - 0s 2ms/step - loss: 0.6694 - binary_accuracy: 0.5806\n",
            "Epoch 23/100\n",
            "105/105 [==============================] - 0s 1ms/step - loss: 0.6581 - binary_accuracy: 0.5872\n",
            "Epoch 24/100\n",
            "105/105 [==============================] - 0s 1ms/step - loss: 0.6668 - binary_accuracy: 0.5786\n",
            "Epoch 25/100\n",
            "105/105 [==============================] - 0s 1ms/step - loss: 0.6570 - binary_accuracy: 0.5853\n",
            "Epoch 26/100\n",
            "105/105 [==============================] - 0s 2ms/step - loss: 0.6607 - binary_accuracy: 0.5796\n",
            "Epoch 27/100\n",
            "105/105 [==============================] - 0s 1ms/step - loss: 0.6633 - binary_accuracy: 0.5901\n",
            "Epoch 28/100\n",
            "105/105 [==============================] - 0s 2ms/step - loss: 0.6694 - binary_accuracy: 0.5825\n",
            "Epoch 29/100\n",
            "105/105 [==============================] - 0s 1ms/step - loss: 0.6622 - binary_accuracy: 0.5844\n",
            "Epoch 30/100\n",
            "105/105 [==============================] - 0s 1ms/step - loss: 0.6719 - binary_accuracy: 0.5796\n",
            "Epoch 31/100\n",
            "105/105 [==============================] - 0s 1ms/step - loss: 0.6641 - binary_accuracy: 0.5786\n",
            "Epoch 32/100\n",
            "105/105 [==============================] - 0s 1ms/step - loss: 0.6602 - binary_accuracy: 0.5853\n",
            "Epoch 33/100\n",
            "105/105 [==============================] - 0s 1ms/step - loss: 0.6603 - binary_accuracy: 0.5853\n",
            "Epoch 34/100\n",
            "105/105 [==============================] - 0s 1ms/step - loss: 0.6543 - binary_accuracy: 0.5882\n",
            "Epoch 35/100\n",
            "105/105 [==============================] - 0s 1ms/step - loss: 0.6591 - binary_accuracy: 0.5796\n",
            "Epoch 36/100\n",
            "105/105 [==============================] - 0s 1ms/step - loss: 0.6628 - binary_accuracy: 0.5825\n",
            "Epoch 37/100\n",
            "105/105 [==============================] - 0s 1ms/step - loss: 0.6495 - binary_accuracy: 0.5872\n",
            "Epoch 38/100\n",
            "105/105 [==============================] - 0s 1ms/step - loss: 0.6549 - binary_accuracy: 0.5786\n",
            "Epoch 39/100\n",
            "105/105 [==============================] - 0s 1ms/step - loss: 0.6662 - binary_accuracy: 0.5748\n",
            "Epoch 40/100\n",
            "105/105 [==============================] - 0s 2ms/step - loss: 0.6717 - binary_accuracy: 0.5577\n",
            "Epoch 41/100\n",
            "105/105 [==============================] - 0s 1ms/step - loss: 0.6573 - binary_accuracy: 0.5605\n",
            "Epoch 42/100\n",
            "105/105 [==============================] - 0s 1ms/step - loss: 0.6630 - binary_accuracy: 0.5586\n",
            "Epoch 43/100\n",
            "105/105 [==============================] - 0s 1ms/step - loss: 0.6633 - binary_accuracy: 0.5748\n",
            "Epoch 44/100\n",
            "105/105 [==============================] - 0s 1ms/step - loss: 0.6596 - binary_accuracy: 0.5596\n",
            "Epoch 45/100\n",
            "105/105 [==============================] - 0s 1ms/step - loss: 0.6593 - binary_accuracy: 0.5834\n",
            "Epoch 46/100\n",
            "105/105 [==============================] - 0s 2ms/step - loss: 0.6624 - binary_accuracy: 0.5548\n",
            "Epoch 47/100\n",
            "105/105 [==============================] - 0s 1ms/step - loss: 0.6643 - binary_accuracy: 0.5729\n",
            "Epoch 48/100\n",
            "105/105 [==============================] - 0s 1ms/step - loss: 0.6503 - binary_accuracy: 0.5767\n",
            "Epoch 49/100\n",
            "105/105 [==============================] - 0s 1ms/step - loss: 0.6602 - binary_accuracy: 0.5786\n",
            "Epoch 50/100\n",
            "105/105 [==============================] - 0s 2ms/step - loss: 0.6659 - binary_accuracy: 0.5825\n",
            "Epoch 51/100\n",
            "105/105 [==============================] - 0s 1ms/step - loss: 0.6734 - binary_accuracy: 0.5520\n",
            "Epoch 52/100\n",
            "105/105 [==============================] - 0s 2ms/step - loss: 0.6748 - binary_accuracy: 0.5596\n",
            "Epoch 53/100\n",
            "105/105 [==============================] - 0s 2ms/step - loss: 0.6664 - binary_accuracy: 0.5605\n",
            "Epoch 54/100\n",
            "105/105 [==============================] - 0s 2ms/step - loss: 0.6638 - binary_accuracy: 0.5462\n",
            "Epoch 55/100\n",
            "105/105 [==============================] - 0s 2ms/step - loss: 0.6647 - binary_accuracy: 0.5663\n",
            "Epoch 56/100\n",
            "105/105 [==============================] - 0s 2ms/step - loss: 0.6665 - binary_accuracy: 0.5577\n",
            "Epoch 57/100\n",
            "105/105 [==============================] - 0s 2ms/step - loss: 0.6584 - binary_accuracy: 0.5586\n",
            "Epoch 58/100\n",
            "105/105 [==============================] - 0s 2ms/step - loss: 0.6571 - binary_accuracy: 0.5806\n",
            "Epoch 59/100\n",
            "105/105 [==============================] - 0s 1ms/step - loss: 0.6634 - binary_accuracy: 0.5729\n",
            "Epoch 60/100\n",
            "105/105 [==============================] - 0s 2ms/step - loss: 0.6637 - binary_accuracy: 0.5567\n",
            "Epoch 61/100\n",
            "105/105 [==============================] - 0s 2ms/step - loss: 0.6567 - binary_accuracy: 0.5643\n",
            "Epoch 62/100\n",
            "105/105 [==============================] - 0s 1ms/step - loss: 0.6643 - binary_accuracy: 0.5462\n",
            "Epoch 63/100\n",
            "105/105 [==============================] - 0s 1ms/step - loss: 0.6567 - binary_accuracy: 0.5777\n",
            "Epoch 64/100\n",
            "105/105 [==============================] - 0s 2ms/step - loss: 0.6698 - binary_accuracy: 0.5520\n",
            "Epoch 65/100\n",
            "105/105 [==============================] - 0s 2ms/step - loss: 0.6607 - binary_accuracy: 0.5539\n",
            "Epoch 66/100\n",
            "105/105 [==============================] - 0s 1ms/step - loss: 0.6698 - binary_accuracy: 0.5767\n",
            "Epoch 67/100\n",
            "105/105 [==============================] - 0s 1ms/step - loss: 0.6556 - binary_accuracy: 0.5863\n",
            "Epoch 68/100\n",
            "105/105 [==============================] - 0s 1ms/step - loss: 0.6602 - binary_accuracy: 0.5977\n",
            "Epoch 69/100\n",
            "105/105 [==============================] - 0s 1ms/step - loss: 0.6627 - binary_accuracy: 0.5815\n",
            "Epoch 70/100\n",
            "105/105 [==============================] - 0s 1ms/step - loss: 0.6600 - binary_accuracy: 0.5834\n",
            "Epoch 71/100\n",
            "105/105 [==============================] - 0s 2ms/step - loss: 0.6617 - binary_accuracy: 0.5748\n",
            "Epoch 72/100\n",
            "105/105 [==============================] - 0s 1ms/step - loss: 0.6608 - binary_accuracy: 0.5901\n",
            "Epoch 73/100\n",
            "105/105 [==============================] - 0s 2ms/step - loss: 0.6571 - binary_accuracy: 0.5872\n",
            "Epoch 74/100\n",
            "105/105 [==============================] - 0s 1ms/step - loss: 0.6573 - binary_accuracy: 0.5825\n",
            "Epoch 75/100\n",
            "105/105 [==============================] - 0s 1ms/step - loss: 0.6700 - binary_accuracy: 0.5853\n",
            "Epoch 76/100\n",
            "105/105 [==============================] - 0s 1ms/step - loss: 0.6456 - binary_accuracy: 0.6130\n",
            "Epoch 77/100\n",
            "105/105 [==============================] - 0s 2ms/step - loss: 0.6660 - binary_accuracy: 0.5682\n",
            "Epoch 78/100\n",
            "105/105 [==============================] - 0s 1ms/step - loss: 0.6618 - binary_accuracy: 0.5691\n",
            "Epoch 79/100\n",
            "105/105 [==============================] - 0s 1ms/step - loss: 0.6654 - binary_accuracy: 0.5643\n",
            "Epoch 80/100\n",
            "105/105 [==============================] - 0s 2ms/step - loss: 0.6675 - binary_accuracy: 0.5567\n",
            "Epoch 81/100\n",
            "105/105 [==============================] - 0s 1ms/step - loss: 0.6576 - binary_accuracy: 0.5815\n",
            "Epoch 82/100\n",
            "105/105 [==============================] - 0s 1ms/step - loss: 0.6631 - binary_accuracy: 0.5958\n",
            "Epoch 83/100\n",
            "105/105 [==============================] - 0s 1ms/step - loss: 0.6549 - binary_accuracy: 0.5796\n",
            "Epoch 84/100\n",
            "105/105 [==============================] - 0s 2ms/step - loss: 0.6568 - binary_accuracy: 0.5586\n",
            "Epoch 85/100\n",
            "105/105 [==============================] - 0s 2ms/step - loss: 0.6630 - binary_accuracy: 0.5624\n",
            "Epoch 86/100\n",
            "105/105 [==============================] - 0s 2ms/step - loss: 0.6682 - binary_accuracy: 0.5577\n",
            "Epoch 87/100\n",
            "105/105 [==============================] - 0s 1ms/step - loss: 0.6576 - binary_accuracy: 0.5815\n",
            "Epoch 88/100\n",
            "105/105 [==============================] - 0s 2ms/step - loss: 0.6695 - binary_accuracy: 0.5663\n",
            "Epoch 89/100\n",
            "105/105 [==============================] - 0s 2ms/step - loss: 0.6615 - binary_accuracy: 0.5853\n",
            "Epoch 90/100\n",
            "105/105 [==============================] - 0s 2ms/step - loss: 0.6733 - binary_accuracy: 0.5539\n",
            "Epoch 91/100\n",
            "105/105 [==============================] - 0s 2ms/step - loss: 0.6576 - binary_accuracy: 0.5796\n",
            "Epoch 92/100\n",
            "105/105 [==============================] - 0s 1ms/step - loss: 0.6580 - binary_accuracy: 0.5634\n",
            "Epoch 93/100\n",
            "105/105 [==============================] - 0s 1ms/step - loss: 0.6672 - binary_accuracy: 0.5605\n",
            "Epoch 94/100\n",
            "105/105 [==============================] - 0s 1ms/step - loss: 0.6614 - binary_accuracy: 0.5777\n",
            "Epoch 95/100\n",
            "105/105 [==============================] - 0s 1ms/step - loss: 0.6584 - binary_accuracy: 0.5882\n",
            "Epoch 96/100\n",
            "105/105 [==============================] - 0s 2ms/step - loss: 0.6553 - binary_accuracy: 0.6072\n",
            "Epoch 97/100\n",
            "105/105 [==============================] - 0s 2ms/step - loss: 0.6506 - binary_accuracy: 0.5825\n",
            "Epoch 98/100\n",
            "105/105 [==============================] - 0s 1ms/step - loss: 0.6587 - binary_accuracy: 0.5825\n",
            "Epoch 99/100\n",
            "105/105 [==============================] - 0s 1ms/step - loss: 0.6652 - binary_accuracy: 0.5844\n",
            "Epoch 100/100\n",
            "105/105 [==============================] - 0s 1ms/step - loss: 0.6515 - binary_accuracy: 0.6149\n"
          ]
        }
      ]
    },
    {
      "cell_type": "code",
      "metadata": {
        "colab": {
          "base_uri": "https://localhost:8080/",
          "height": 242
        },
        "id": "uO5ytH3DPT5k",
        "outputId": "9f366bee-70b4-463f-b97b-b77f0969fa29"
      },
      "source": [
        "# Matriz de confusão target_ANGINA\n",
        "\n",
        "matriz_ANGINA = confusion_matrix(y_test_ANGINA, previsoes_ANGINA)\n",
        "plt.figure(figsize = (5,3))\n",
        "sns.heatmap(matriz_ANGINA, annot = True)\n",
        "plt.xlabel(\"Previsoes\")\n",
        "plt.ylabel(\"Resposta Certa\")"
      ],
      "execution_count": null,
      "outputs": [
        {
          "output_type": "execute_result",
          "data": {
            "text/plain": [
              "Text(24.0, 0.5, 'Resposta Certa')"
            ]
          },
          "metadata": {},
          "execution_count": 169
        },
        {
          "output_type": "display_data",
          "data": {
            "image/png": "[encoded data removed]",
            "text/plain": [
              "<Figure size 360x216 with 2 Axes>"
            ]
          },
          "metadata": {
            "needs_background": "light"
          }
        }
      ]
    },
    {
      "cell_type": "code",
      "metadata": {
        "id": "j0DSVt6PPW8A"
      },
      "source": [
        "#Separando os valores TP-TN-FP-FN previosres/target_ANGINA\n",
        "\n",
        "TP_ANGINA = matriz_ANGINA[0,0]\n",
        "TN_ANGINA = matriz_ANGINA[1,1]\n",
        "FP_ANGINA = matriz_ANGINA[1,0]\n",
        "FN_ANGINA = matriz_ANGINA[0,1]\n",
        "\n",
        "#Accuracy previosres/target_ANGINA\n",
        "\n",
        "Accuracy_ANGINA = accuracy_score(y_test_ANGINA, previsoes_ANGINA) * 100\n",
        "\n",
        "#F1_Score previsores/target_ANGINA\n",
        "\n",
        "F1_ANGINA = f1_score(y_test_ANGINA, previsoes_ANGINA, labels=None, pos_label=1, average='binary', sample_weight=None, zero_division='warn') * 100\n",
        "\n",
        "#MCC_Score previsores/target_AGINA\n",
        "\n",
        "MCC_ANGINA = matthews_corrcoef(y_test_ANGINA, previsoes_ANGINA) * 100\n",
        "\n",
        "# Sensitivity previsores/target_ANGINA\n",
        "\n",
        "sensitivity_ANGINA = recall_score(y_test_MI, previsoes_MI, labels=None, pos_label=1, average='micro', sample_weight=None, zero_division='warn')  * 100 # VP/(VP+FN)\n",
        "\n",
        "# Specificity previsores/target_ANGINA\n",
        "\n",
        "specificity_ANGINA = TN_ANGINA/(TN_ANGINA+FP_ANGINA) * 100"
      ],
      "execution_count": null,
      "outputs": []
    },
    {
      "cell_type": "code",
      "metadata": {
        "colab": {
          "base_uri": "https://localhost:8080/"
        },
        "id": "LOV7_qzRPeYg",
        "outputId": "d894ada9-12ec-42e5-c12b-91d163f1e559"
      },
      "source": [
        "print(f'Accuracy_ANGINA: {round(Accuracy_ANGINA,2)} %\\n\\nF1_ANGINA: {round(F1_ANGINA,2)} %\\n\\nMCC_ANGINA: {round(MCC_ANGINA,2)} %\\n\\nSensitivity_ANGINA: {round(sensitivity,2)} %\\n\\nSpecificity_ANGINA: {round(specificity_ANGINA,2)} %')"
      ],
      "execution_count": null,
      "outputs": [
        {
          "output_type": "stream",
          "name": "stdout",
          "text": [
            "Accuracy_ANGINA: 63.88 %\n",
            "\n",
            "F1_ANGINA: 68.23 %\n",
            "\n",
            "MCC_ANGINA: 27.56 %\n",
            "\n",
            "Sensitivity_ANGINA: 64.42 %\n",
            "\n",
            "Specificity_ANGINA: 74.45 %\n"
          ]
        }
      ]
    },
    {
      "cell_type": "markdown",
      "metadata": {
        "id": "2wScLynJPqBr"
      },
      "source": [
        "**Treinando a rede neural com as bases previsores/target_STROKE**"
      ]
    },
    {
      "cell_type": "code",
      "metadata": {
        "colab": {
          "base_uri": "https://localhost:8080/"
        },
        "id": "wJ1fxlMmPswx",
        "outputId": "09361519-94ee-4ba3-bfa3-3ccc48eaf680"
      },
      "source": [
        "#Efetuando o treinamento da Rede Neural\n",
        "\n",
        "modelo.fit(X_train_STROKE, y_train_STROKE, epochs=100, batch_size=10)\n",
        "\n",
        "#Realizando previsão com a base de dado de teste\n",
        "\n",
        "previsoes_STROKE = modelo.predict(X_test_STROKE)\n",
        "\n",
        "#Convertendo os resultados em True ou False\n",
        "\n",
        "previsoes_STROKE = (previsoes_STROKE > 0.5)"
      ],
      "execution_count": null,
      "outputs": [
        {
          "output_type": "stream",
          "name": "stdout",
          "text": [
            "Epoch 1/100\n",
            "111/111 [==============================] - 0s 1ms/step - loss: 0.7044 - binary_accuracy: 0.5318\n",
            "Epoch 2/100\n",
            "111/111 [==============================] - 0s 1ms/step - loss: 0.6942 - binary_accuracy: 0.5254\n",
            "Epoch 3/100\n",
            "111/111 [==============================] - 0s 1ms/step - loss: 0.6898 - binary_accuracy: 0.5218\n",
            "Epoch 4/100\n",
            "111/111 [==============================] - 0s 2ms/step - loss: 0.6846 - binary_accuracy: 0.5336\n",
            "Epoch 5/100\n",
            "111/111 [==============================] - 0s 1ms/step - loss: 0.6795 - binary_accuracy: 0.5572\n",
            "Epoch 6/100\n",
            "111/111 [==============================] - 0s 2ms/step - loss: 0.6837 - binary_accuracy: 0.5563\n",
            "Epoch 7/100\n",
            "111/111 [==============================] - 0s 2ms/step - loss: 0.6825 - binary_accuracy: 0.5554\n",
            "Epoch 8/100\n",
            "111/111 [==============================] - 0s 1ms/step - loss: 0.6820 - binary_accuracy: 0.5581\n",
            "Epoch 9/100\n",
            "111/111 [==============================] - 0s 1ms/step - loss: 0.6769 - binary_accuracy: 0.5599\n",
            "Epoch 10/100\n",
            "111/111 [==============================] - 0s 1ms/step - loss: 0.6849 - binary_accuracy: 0.5608\n",
            "Epoch 11/100\n",
            "111/111 [==============================] - 0s 1ms/step - loss: 0.6784 - binary_accuracy: 0.5653\n",
            "Epoch 12/100\n",
            "111/111 [==============================] - 0s 2ms/step - loss: 0.6785 - binary_accuracy: 0.5617\n",
            "Epoch 13/100\n",
            "111/111 [==============================] - 0s 2ms/step - loss: 0.6791 - binary_accuracy: 0.5617\n",
            "Epoch 14/100\n",
            "111/111 [==============================] - 0s 1ms/step - loss: 0.6797 - binary_accuracy: 0.5608\n",
            "Epoch 15/100\n",
            "111/111 [==============================] - 0s 1ms/step - loss: 0.6847 - binary_accuracy: 0.5608\n",
            "Epoch 16/100\n",
            "111/111 [==============================] - 0s 1ms/step - loss: 0.6802 - binary_accuracy: 0.5590\n",
            "Epoch 17/100\n",
            "111/111 [==============================] - 0s 1ms/step - loss: 0.6853 - binary_accuracy: 0.5563\n",
            "Epoch 18/100\n",
            "111/111 [==============================] - 0s 2ms/step - loss: 0.6834 - binary_accuracy: 0.5608\n",
            "Epoch 19/100\n",
            "111/111 [==============================] - 0s 1ms/step - loss: 0.6822 - binary_accuracy: 0.5608\n",
            "Epoch 20/100\n",
            "111/111 [==============================] - 0s 1ms/step - loss: 0.6809 - binary_accuracy: 0.5653\n",
            "Epoch 21/100\n",
            "111/111 [==============================] - 0s 1ms/step - loss: 0.6813 - binary_accuracy: 0.5653\n",
            "Epoch 22/100\n",
            "111/111 [==============================] - 0s 1ms/step - loss: 0.6826 - binary_accuracy: 0.5626\n",
            "Epoch 23/100\n",
            "111/111 [==============================] - 0s 1ms/step - loss: 0.6874 - binary_accuracy: 0.5572\n",
            "Epoch 24/100\n",
            "111/111 [==============================] - 0s 1ms/step - loss: 0.6771 - binary_accuracy: 0.5590\n",
            "Epoch 25/100\n",
            "111/111 [==============================] - 0s 2ms/step - loss: 0.6767 - binary_accuracy: 0.5626\n",
            "Epoch 26/100\n",
            "111/111 [==============================] - 0s 2ms/step - loss: 0.6821 - binary_accuracy: 0.5608\n",
            "Epoch 27/100\n",
            "111/111 [==============================] - 0s 1ms/step - loss: 0.6815 - binary_accuracy: 0.5617\n",
            "Epoch 28/100\n",
            "111/111 [==============================] - 0s 1ms/step - loss: 0.6842 - binary_accuracy: 0.5626\n",
            "Epoch 29/100\n",
            "111/111 [==============================] - 0s 1ms/step - loss: 0.6737 - binary_accuracy: 0.5590\n",
            "Epoch 30/100\n",
            "111/111 [==============================] - 0s 2ms/step - loss: 0.6787 - binary_accuracy: 0.5644\n",
            "Epoch 31/100\n",
            "111/111 [==============================] - 0s 2ms/step - loss: 0.6804 - binary_accuracy: 0.5599\n",
            "Epoch 32/100\n",
            "111/111 [==============================] - 0s 2ms/step - loss: 0.6804 - binary_accuracy: 0.5635\n",
            "Epoch 33/100\n",
            "111/111 [==============================] - 0s 1ms/step - loss: 0.6791 - binary_accuracy: 0.5608\n",
            "Epoch 34/100\n",
            "111/111 [==============================] - 0s 1ms/step - loss: 0.6789 - binary_accuracy: 0.5635\n",
            "Epoch 35/100\n",
            "111/111 [==============================] - 0s 1ms/step - loss: 0.6824 - binary_accuracy: 0.5581\n",
            "Epoch 36/100\n",
            "111/111 [==============================] - 0s 2ms/step - loss: 0.6778 - binary_accuracy: 0.5644\n",
            "Epoch 37/100\n",
            "111/111 [==============================] - 0s 1ms/step - loss: 0.6897 - binary_accuracy: 0.5572\n",
            "Epoch 38/100\n",
            "111/111 [==============================] - 0s 1ms/step - loss: 0.6853 - binary_accuracy: 0.5608\n",
            "Epoch 39/100\n",
            "111/111 [==============================] - 0s 1ms/step - loss: 0.6797 - binary_accuracy: 0.5617\n",
            "Epoch 40/100\n",
            "111/111 [==============================] - 0s 1ms/step - loss: 0.6805 - binary_accuracy: 0.5672\n",
            "Epoch 41/100\n",
            "111/111 [==============================] - 0s 1ms/step - loss: 0.6844 - binary_accuracy: 0.5626\n",
            "Epoch 42/100\n",
            "111/111 [==============================] - 0s 2ms/step - loss: 0.6792 - binary_accuracy: 0.5672\n",
            "Epoch 43/100\n",
            "111/111 [==============================] - 0s 1ms/step - loss: 0.6751 - binary_accuracy: 0.5672\n",
            "Epoch 44/100\n",
            "111/111 [==============================] - 0s 1ms/step - loss: 0.6829 - binary_accuracy: 0.5653\n",
            "Epoch 45/100\n",
            "111/111 [==============================] - 0s 2ms/step - loss: 0.6809 - binary_accuracy: 0.5662\n",
            "Epoch 46/100\n",
            "111/111 [==============================] - 0s 1ms/step - loss: 0.6776 - binary_accuracy: 0.5644\n",
            "Epoch 47/100\n",
            "111/111 [==============================] - 0s 1ms/step - loss: 0.6785 - binary_accuracy: 0.5590\n",
            "Epoch 48/100\n",
            "111/111 [==============================] - 0s 2ms/step - loss: 0.6764 - binary_accuracy: 0.5644\n",
            "Epoch 49/100\n",
            "111/111 [==============================] - 0s 2ms/step - loss: 0.6734 - binary_accuracy: 0.5608\n",
            "Epoch 50/100\n",
            "111/111 [==============================] - 0s 1ms/step - loss: 0.6760 - binary_accuracy: 0.5626\n",
            "Epoch 51/100\n",
            "111/111 [==============================] - 0s 1ms/step - loss: 0.6733 - binary_accuracy: 0.5699\n",
            "Epoch 52/100\n",
            "111/111 [==============================] - 0s 1ms/step - loss: 0.6813 - binary_accuracy: 0.5608\n",
            "Epoch 53/100\n",
            "111/111 [==============================] - 0s 1ms/step - loss: 0.6769 - binary_accuracy: 0.5626\n",
            "Epoch 54/100\n",
            "111/111 [==============================] - 0s 2ms/step - loss: 0.6720 - binary_accuracy: 0.5690\n",
            "Epoch 55/100\n",
            "111/111 [==============================] - 0s 1ms/step - loss: 0.6806 - binary_accuracy: 0.5708\n",
            "Epoch 56/100\n",
            "111/111 [==============================] - 0s 1ms/step - loss: 0.6780 - binary_accuracy: 0.5599\n",
            "Epoch 57/100\n",
            "111/111 [==============================] - 0s 1ms/step - loss: 0.6754 - binary_accuracy: 0.5617\n",
            "Epoch 58/100\n",
            "111/111 [==============================] - 0s 1ms/step - loss: 0.6739 - binary_accuracy: 0.5681\n",
            "Epoch 59/100\n",
            "111/111 [==============================] - 0s 1ms/step - loss: 0.6829 - binary_accuracy: 0.5635\n",
            "Epoch 60/100\n",
            "111/111 [==============================] - 0s 2ms/step - loss: 0.6757 - binary_accuracy: 0.5681\n",
            "Epoch 61/100\n",
            "111/111 [==============================] - 0s 1ms/step - loss: 0.6778 - binary_accuracy: 0.5672\n",
            "Epoch 62/100\n",
            "111/111 [==============================] - 0s 2ms/step - loss: 0.6804 - binary_accuracy: 0.5590\n",
            "Epoch 63/100\n",
            "111/111 [==============================] - 0s 1ms/step - loss: 0.6752 - binary_accuracy: 0.5635\n",
            "Epoch 64/100\n",
            "111/111 [==============================] - 0s 1ms/step - loss: 0.6789 - binary_accuracy: 0.5653\n",
            "Epoch 65/100\n",
            "111/111 [==============================] - 0s 1ms/step - loss: 0.6750 - binary_accuracy: 0.5662\n",
            "Epoch 66/100\n",
            "111/111 [==============================] - 0s 2ms/step - loss: 0.6732 - binary_accuracy: 0.5653\n",
            "Epoch 67/100\n",
            "111/111 [==============================] - 0s 2ms/step - loss: 0.6810 - binary_accuracy: 0.5672\n",
            "Epoch 68/100\n",
            "111/111 [==============================] - 0s 2ms/step - loss: 0.6721 - binary_accuracy: 0.5699\n",
            "Epoch 69/100\n",
            "111/111 [==============================] - 0s 1ms/step - loss: 0.6715 - binary_accuracy: 0.5662\n",
            "Epoch 70/100\n",
            "111/111 [==============================] - 0s 1ms/step - loss: 0.6777 - binary_accuracy: 0.5672\n",
            "Epoch 71/100\n",
            "111/111 [==============================] - 0s 2ms/step - loss: 0.6690 - binary_accuracy: 0.5690\n",
            "Epoch 72/100\n",
            "111/111 [==============================] - 0s 1ms/step - loss: 0.6755 - binary_accuracy: 0.5653\n",
            "Epoch 73/100\n",
            "111/111 [==============================] - 0s 1ms/step - loss: 0.6732 - binary_accuracy: 0.5708\n",
            "Epoch 74/100\n",
            "111/111 [==============================] - 0s 2ms/step - loss: 0.6753 - binary_accuracy: 0.5672\n",
            "Epoch 75/100\n",
            "111/111 [==============================] - 0s 2ms/step - loss: 0.6752 - binary_accuracy: 0.5662\n",
            "Epoch 76/100\n",
            "111/111 [==============================] - 0s 1ms/step - loss: 0.6723 - binary_accuracy: 0.5662\n",
            "Epoch 77/100\n",
            "111/111 [==============================] - 0s 1ms/step - loss: 0.6742 - binary_accuracy: 0.5699\n",
            "Epoch 78/100\n",
            "111/111 [==============================] - 0s 2ms/step - loss: 0.6681 - binary_accuracy: 0.5672\n",
            "Epoch 79/100\n",
            "111/111 [==============================] - 0s 2ms/step - loss: 0.6733 - binary_accuracy: 0.5672\n",
            "Epoch 80/100\n",
            "111/111 [==============================] - 0s 2ms/step - loss: 0.6710 - binary_accuracy: 0.5717\n",
            "Epoch 81/100\n",
            "111/111 [==============================] - 0s 1ms/step - loss: 0.6656 - binary_accuracy: 0.5699\n",
            "Epoch 82/100\n",
            "111/111 [==============================] - 0s 2ms/step - loss: 0.6732 - binary_accuracy: 0.5690\n",
            "Epoch 83/100\n",
            "111/111 [==============================] - 0s 1ms/step - loss: 0.6742 - binary_accuracy: 0.5644\n",
            "Epoch 84/100\n",
            "111/111 [==============================] - 0s 2ms/step - loss: 0.6694 - binary_accuracy: 0.5681\n",
            "Epoch 85/100\n",
            "111/111 [==============================] - 0s 1ms/step - loss: 0.6706 - binary_accuracy: 0.5653\n",
            "Epoch 86/100\n",
            "111/111 [==============================] - 0s 1ms/step - loss: 0.6771 - binary_accuracy: 0.5708\n",
            "Epoch 87/100\n",
            "111/111 [==============================] - 0s 1ms/step - loss: 0.6693 - binary_accuracy: 0.5726\n",
            "Epoch 88/100\n",
            "111/111 [==============================] - 0s 2ms/step - loss: 0.6725 - binary_accuracy: 0.5699\n",
            "Epoch 89/100\n",
            "111/111 [==============================] - 0s 2ms/step - loss: 0.6704 - binary_accuracy: 0.5708\n",
            "Epoch 90/100\n",
            "111/111 [==============================] - 0s 2ms/step - loss: 0.6652 - binary_accuracy: 0.5681\n",
            "Epoch 91/100\n",
            "111/111 [==============================] - 0s 1ms/step - loss: 0.6661 - binary_accuracy: 0.5699\n",
            "Epoch 92/100\n",
            "111/111 [==============================] - 0s 1ms/step - loss: 0.6726 - binary_accuracy: 0.5690\n",
            "Epoch 93/100\n",
            "111/111 [==============================] - 0s 1ms/step - loss: 0.6685 - binary_accuracy: 0.5726\n",
            "Epoch 94/100\n",
            "111/111 [==============================] - 0s 2ms/step - loss: 0.6673 - binary_accuracy: 0.5717\n",
            "Epoch 95/100\n",
            "111/111 [==============================] - 0s 1ms/step - loss: 0.6761 - binary_accuracy: 0.5662\n",
            "Epoch 96/100\n",
            "111/111 [==============================] - 0s 2ms/step - loss: 0.6740 - binary_accuracy: 0.5672\n",
            "Epoch 97/100\n",
            "111/111 [==============================] - 0s 1ms/step - loss: 0.6741 - binary_accuracy: 0.5653\n",
            "Epoch 98/100\n",
            "111/111 [==============================] - 0s 1ms/step - loss: 0.6649 - binary_accuracy: 0.5662\n",
            "Epoch 99/100\n",
            "111/111 [==============================] - 0s 2ms/step - loss: 0.6638 - binary_accuracy: 0.5708\n",
            "Epoch 100/100\n",
            "111/111 [==============================] - 0s 2ms/step - loss: 0.6623 - binary_accuracy: 0.5672\n"
          ]
        }
      ]
    },
    {
      "cell_type": "code",
      "metadata": {
        "colab": {
          "base_uri": "https://localhost:8080/",
          "height": 242
        },
        "id": "hkIesKjyPunA",
        "outputId": "f6869eb3-5dc1-4090-dfe6-ae61fd4417bf"
      },
      "source": [
        "# Matriz de confusão target_STROKE\n",
        "\n",
        "matriz_STROKE = confusion_matrix(y_test_STROKE, previsoes_STROKE)\n",
        "plt.figure(figsize = (5,3))\n",
        "sns.heatmap(matriz_STROKE, annot = True)\n",
        "plt.xlabel(\"Previsoes\")\n",
        "plt.ylabel(\"Resposta Certa\")"
      ],
      "execution_count": null,
      "outputs": [
        {
          "output_type": "execute_result",
          "data": {
            "text/plain": [
              "Text(24.0, 0.5, 'Resposta Certa')"
            ]
          },
          "metadata": {},
          "execution_count": 173
        },
        {
          "output_type": "display_data",
          "data": {
            "image/png": "[encoded data removed]",
            "text/plain": [
              "<Figure size 360x216 with 2 Axes>"
            ]
          },
          "metadata": {
            "needs_background": "light"
          }
        }
      ]
    },
    {
      "cell_type": "code",
      "metadata": {
        "id": "j7A0DkVCPxKt"
      },
      "source": [
        "#Separando os valores TP-TN-FP-FN previosres/target_ANGINA\n",
        "\n",
        "TP_STROKE = matriz_STROKE[0,0]\n",
        "TN_STROKE = matriz_STROKE[1,1]\n",
        "FP_STROKE = matriz_STROKE[1,0]\n",
        "FN_STROKE = matriz_STROKE[0,1]\n",
        "\n",
        "#Accuracy previosres/target_ANGINA\n",
        "\n",
        "Accuracy_STROKE = accuracy_score(y_test_STROKE, previsoes_STROKE) * 100\n",
        "\n",
        "#F1_Score previsores/target_STROKE\n",
        "\n",
        "F1_STROKE = f1_score(y_test_STROKE, previsoes_STROKE, labels=None, pos_label=1, average='binary', sample_weight=None, zero_division='warn') * 100\n",
        "\n",
        "#MCC_Score previsores/target_STROKE\n",
        "\n",
        "MCC_STROKE = matthews_corrcoef(y_test_STROKE, previsoes_STROKE) * 100\n",
        "\n",
        "# Sensitivity previsores/target_STROKE\n",
        "\n",
        "sensitivity = recall_score(y_test_STROKE, previsoes_STROKE, labels=None, pos_label=1, average='micro', sample_weight=None, zero_division='warn') * 100 # VP/(VP+FN)\n",
        "\n",
        "# Specificity previsores/target_STROKE\n",
        "\n",
        "specificity_STROKE = TN_STROKE/(TN_STROKE+FP_STROKE) * 100"
      ],
      "execution_count": null,
      "outputs": []
    },
    {
      "cell_type": "code",
      "metadata": {
        "colab": {
          "base_uri": "https://localhost:8080/"
        },
        "id": "3EgJQqGTP3ag",
        "outputId": "26ca99aa-3181-43f6-f20f-ecfc76e2c493"
      },
      "source": [
        "print(f'Accuracy_STROKE: {round(Accuracy_STROKE,2)}\\n\\nF1_STROKE: {round(F1_STROKE,)} %\\n\\nMCC_STROKE: {round(MCC_STROKE,2)} %\\n\\nSensitivity_STROKE: {round(sensitivity,2)} %\\n\\nSpecificity_STROKE: {round(specificity_STROKE,2)} %')"
      ],
      "execution_count": null,
      "outputs": [
        {
          "output_type": "stream",
          "name": "stdout",
          "text": [
            "Accuracy_STROKE: 54.71\n",
            "\n",
            "F1_STROKE: 70 %\n",
            "\n",
            "MCC_STROKE: 12.48 %\n",
            "\n",
            "Sensitivity_STROKE: 54.71 %\n",
            "\n",
            "Specificity_STROKE: 99.32 %\n"
          ]
        }
      ]
    },
    {
      "cell_type": "markdown",
      "metadata": {
        "id": "gYcMQMB5fWpE"
      },
      "source": [
        "**Validação Cruzada**"
      ]
    },
    {
      "cell_type": "code",
      "metadata": {
        "id": "hVWs3Lfpe3vO"
      },
      "source": [
        "#Definindo os valores para folds\n",
        "\n",
        "num_folds = 10\n",
        "seed = 7\n",
        "\n",
        "#Separando os dados em folds\n",
        "\n",
        "Kfold = KFold(num_folds, True, random_state= seed) "
      ],
      "execution_count": null,
      "outputs": []
    },
    {
      "cell_type": "markdown",
      "metadata": {
        "id": "lqRrNIP4Z118"
      },
      "source": [
        "**Validação Cruzada com algoritomo RandomForestClassifier**"
      ]
    },
    {
      "cell_type": "code",
      "metadata": {
        "id": "L0kAbuRVfZbr"
      },
      "source": [
        "#Criando o modelo\n",
        "\n",
        "modeloRandomValCru = RandomForestClassifier()"
      ],
      "execution_count": null,
      "outputs": []
    },
    {
      "cell_type": "markdown",
      "metadata": {
        "id": "Y6KBLBBIwDn0"
      },
      "source": [
        "**Validação Cruzada com algoritomo RandomForestClassifier usando previsores_cvd / target_cvd**"
      ]
    },
    {
      "cell_type": "code",
      "metadata": {
        "id": "y_dggLIdfele"
      },
      "source": [
        "#Aplicando a validação cruzada previsores_cvd/target_cvd\n",
        "\n",
        "resultados_acc_cvd = cross_val_score(modeloRandomValCru, previsores_cvd, target_cvd, cv=Kfold, scoring='accuracy')\n",
        "resultados_f1_cvd = cross_val_score(modeloRandomValCru, previsores_cvd, target_cvd, cv=Kfold, scoring='f1')\n",
        "resultados_recall_cvd = cross_val_score(modeloRandomValCru, previsores_cvd, target_cvd, cv=Kfold, scoring='recall')\n",
        "resultados_precision_cvd = cross_val_score(modeloRandomValCru, previsores_cvd, target_cvd, cv=Kfold, scoring='precision')"
      ],
      "execution_count": null,
      "outputs": []
    },
    {
      "cell_type": "code",
      "metadata": {
        "colab": {
          "base_uri": "https://localhost:8080/"
        },
        "id": "PaEKbAuzf9KU",
        "outputId": "fc16c0d7-1f75-46d0-aa16-daeece1cddad"
      },
      "source": [
        "#Média de accuracy, F1, Sensibility e precision após a validação cruzada\n",
        "\n",
        "resultados_acc_cvd = resultados_acc_cvd.mean() * 100\n",
        "resultados_f1_cvd = resultados_f1_cvd.mean() * 100\n",
        "resultados_recall_cvd = resultados_recall_cvd.mean() * 100\n",
        "resultados_precision_cvd = resultados_precision_cvd.mean() * 100\n",
        "\n",
        "print(f'Accuracy: {round(resultados_acc_cvd,2)} %\\n\\nF1: {round(resultados_f1_cvd,2)} %\\n\\nSensibility: {round(resultados_recall_cvd,2)} %\\n\\nPrecision: {round(resultados_precision_cvd,2)} %')"
      ],
      "execution_count": null,
      "outputs": [
        {
          "output_type": "stream",
          "name": "stdout",
          "text": [
            "Accuracy: 85.26 %\n",
            "\n",
            "F1: 86.67 %\n",
            "\n",
            "Sensibility: 88.64 %\n",
            "\n",
            "Precision: 83.1 %\n"
          ]
        }
      ]
    },
    {
      "cell_type": "markdown",
      "metadata": {
        "id": "N2oO1nEwwR52"
      },
      "source": [
        "**Validação Cruzada  com algoritomo RandomForestClassifier usando previsores_MI / target_MI**"
      ]
    },
    {
      "cell_type": "code",
      "metadata": {
        "id": "vDAgH3AMwUtc"
      },
      "source": [
        "#Aplicando a validação cruzada previsores_MI/target_MI\n",
        "\n",
        "resultados_acc_MI = cross_val_score(modeloRandomValCru, previsores_MI, target_MI, cv=Kfold, scoring='accuracy')\n",
        "resultados_f1_MI = cross_val_score(modeloRandomValCru, previsores_MI, target_MI, cv=Kfold, scoring='f1')\n",
        "resultados_recall_MI = cross_val_score(modeloRandomValCru, previsores_MI, target_MI, cv=Kfold, scoring='recall')\n",
        "resultados_precision_MI = cross_val_score(modeloRandomValCru, previsores_MI, target_MI, cv=Kfold, scoring='precision')"
      ],
      "execution_count": null,
      "outputs": []
    },
    {
      "cell_type": "code",
      "metadata": {
        "colab": {
          "base_uri": "https://localhost:8080/"
        },
        "id": "jJijY_NcwoV_",
        "outputId": "5eb5e75f-e1ac-4a02-943e-6a79ce223a45"
      },
      "source": [
        "#Média de accuracy, F1, Sensibility e precision após a validação cruzada\n",
        "\n",
        "resultados_acc_MI = resultados_acc_MI.mean() * 100\n",
        "resultados_f1_MI = resultados_f1_MI.mean() * 100\n",
        "resultados_recall_MI = resultados_recall_MI.mean() * 100\n",
        "resultados_precision_MI = resultados_precision_MI.mean() * 100\n",
        "\n",
        "print(f'Accuracy: {round(resultados_acc_MI,2)} %\\n\\nF1: {round(resultados_f1_MI,2)} %\\n\\nSensibility: {round(resultados_recall_MI,2)} %\\n\\nPrecision: {round(resultados_precision_MI,2)} %')"
      ],
      "execution_count": null,
      "outputs": [
        {
          "output_type": "stream",
          "name": "stdout",
          "text": [
            "Accuracy: 93.4 %\n",
            "\n",
            "F1: 93.72 %\n",
            "\n",
            "Sensibility: 96.56 %\n",
            "\n",
            "Precision: 91.1 %\n"
          ]
        }
      ]
    },
    {
      "cell_type": "markdown",
      "metadata": {
        "id": "AbygAik3aeuT"
      },
      "source": [
        "**Validação Cruzada  com algoritomo RandomForestClassifier usando previsores_ANGINA / target_ANGINA**"
      ]
    },
    {
      "cell_type": "code",
      "metadata": {
        "id": "hyhGd-uEahgt"
      },
      "source": [
        "#Aplicando a validação cruzada previsores_ANGINA/target_ANGINA\n",
        "\n",
        "resultados_acc_ANGINA = cross_val_score(modeloRandomValCru, previsores_ANGINA, target_ANGINA, cv=Kfold, scoring='accuracy')\n",
        "resultados_f1_ANGINA = cross_val_score(modeloRandomValCru, previsores_ANGINA, target_ANGINA, cv=Kfold, scoring='f1')\n",
        "resultados_recall_ANGINA = cross_val_score(modeloRandomValCru, previsores_ANGINA, target_ANGINA, cv=Kfold, scoring='recall')\n",
        "resultados_precision_ANGINA = cross_val_score(modeloRandomValCru, previsores_ANGINA, target_ANGINA, cv=Kfold, scoring='precision')"
      ],
      "execution_count": null,
      "outputs": []
    },
    {
      "cell_type": "code",
      "metadata": {
        "colab": {
          "base_uri": "https://localhost:8080/"
        },
        "id": "ae-9Ce9GbBjj",
        "outputId": "fbab5820-b67a-4c83-e6b9-fa2f7f13e6f3"
      },
      "source": [
        "#Média de accuracy, F1, Sensibility e precision após a validação cruzada\n",
        "\n",
        "resultados_acc_ANGINA = resultados_acc_ANGINA.mean() * 100\n",
        "resultados_f1_ANGINA = resultados_f1_ANGINA.mean() * 100\n",
        "resultados_recall_ANGINA = resultados_recall_ANGINA.mean() * 100\n",
        "resultados_precision_ANGINA = resultados_precision_ANGINA.mean() * 100\n",
        "\n",
        "print(f'Accuracy: {round(resultados_acc_ANGINA,2)} %\\n\\nF1: {round(resultados_f1_ANGINA,2)} %\\n\\nSensibility: {round(resultados_recall_ANGINA,2)} %\\n\\nPrecision: {round(resultados_precision_ANGINA,2)} %')"
      ],
      "execution_count": null,
      "outputs": [
        {
          "output_type": "stream",
          "name": "stdout",
          "text": [
            "Accuracy: 91.99 %\n",
            "\n",
            "F1: 92.72 %\n",
            "\n",
            "Sensibility: 95.72 %\n",
            "\n",
            "Precision: 90.22 %\n"
          ]
        }
      ]
    },
    {
      "cell_type": "markdown",
      "metadata": {
        "id": "y-z2sZjgba-W"
      },
      "source": [
        "**Validação Cruzada  com algoritomo RandomForestClassifier usando previsores_STROKE / target_STROKE**"
      ]
    },
    {
      "cell_type": "code",
      "metadata": {
        "id": "1jmeLHkfbf9W"
      },
      "source": [
        "#Aplicando a validação cruzada previsores_STROKE/target_STROKE\n",
        "\n",
        "resultados_acc_STROKE = cross_val_score(modeloRandomValCru, previsores_STROKE, target_STROKE, cv=Kfold, scoring='accuracy')\n",
        "resultados_f1_STROKE = cross_val_score(modeloRandomValCru, previsores_STROKE, target_STROKE, cv=Kfold, scoring='f1')\n",
        "resultados_recall_STROKE = cross_val_score(modeloRandomValCru, previsores_STROKE, target_STROKE, cv=Kfold, scoring='recall')\n",
        "resultados_precision_STROKE = cross_val_score(modeloRandomValCru, previsores_STROKE, target_STROKE, cv=Kfold, scoring='precision')"
      ],
      "execution_count": null,
      "outputs": []
    },
    {
      "cell_type": "code",
      "metadata": {
        "colab": {
          "base_uri": "https://localhost:8080/"
        },
        "id": "6xdT_XYlb1h-",
        "outputId": "0a2aba0a-8475-4170-cec8-c88e884d0f79"
      },
      "source": [
        "#Média de accuracy, F1, Sensibility e precision após a validação cruzada\n",
        "\n",
        "resultados_acc_STROKE = resultados_acc_STROKE.mean() * 100\n",
        "resultados_f1_STROKE = resultados_f1_STROKE.mean() * 100\n",
        "resultados_recall_STROKE = resultados_recall_STROKE.mean() * 100\n",
        "resultados_precision_STROKE = resultados_precision_STROKE.mean() * 100\n",
        "\n",
        "print(f'Accuracy: {round(resultados_acc_STROKE,2)} %\\n\\nF1: {round(resultados_f1_STROKE,2)} %\\n\\nSensibility: {round(resultados_recall_STROKE,2)} %\\n\\nPrecision: {round(resultados_precision_STROKE,2)} %')"
      ],
      "execution_count": null,
      "outputs": [
        {
          "output_type": "stream",
          "name": "stdout",
          "text": [
            "Accuracy: 95.79 %\n",
            "\n",
            "F1: 96.14 %\n",
            "\n",
            "Sensibility: 97.95 %\n",
            "\n",
            "Precision: 94.53 %\n"
          ]
        }
      ]
    },
    {
      "cell_type": "markdown",
      "metadata": {
        "id": "5BypRVIfcSAo"
      },
      "source": [
        "**Validação Cruzada com algoritomo KNeighborsClassifier**"
      ]
    },
    {
      "cell_type": "code",
      "metadata": {
        "id": "HJfrmRIDcSri"
      },
      "source": [
        "#Criando o modelo\n",
        "\n",
        "modeloKValCru = KNeighborsClassifier()"
      ],
      "execution_count": null,
      "outputs": []
    },
    {
      "cell_type": "markdown",
      "metadata": {
        "id": "TLmXEGxXc2Hg"
      },
      "source": [
        "**Validação Cruzada com algoritomo KNeighborsClassifier usando previsores_cvd / target_cvd**"
      ]
    },
    {
      "cell_type": "code",
      "metadata": {
        "id": "XNqvpsSkcnEK"
      },
      "source": [
        "#Aplicando a validação cruzada previsores_cvd/target_cvd\n",
        "\n",
        "resultados_acc_cvd = cross_val_score(modeloKValCru, previsores_cvd, target_cvd, cv=Kfold, scoring='accuracy')\n",
        "resultados_f1_cvd = cross_val_score(modeloKValCru, previsores_cvd, target_cvd, cv=Kfold, scoring='f1')\n",
        "resultados_recall_cvd = cross_val_score(modeloKValCru, previsores_cvd, target_cvd, cv=Kfold, scoring='recall')\n",
        "resultados_precision_cvd = cross_val_score(modeloKValCru, previsores_cvd, target_cvd, cv=Kfold, scoring='precision')"
      ],
      "execution_count": null,
      "outputs": []
    },
    {
      "cell_type": "code",
      "metadata": {
        "colab": {
          "base_uri": "https://localhost:8080/"
        },
        "id": "26CfrWBidJCS",
        "outputId": "750f6520-dc51-4c54-fa4a-4f9b385ee5be"
      },
      "source": [
        "#Média de accuracy, F1, Sensibility e precision após a validação cruzada\n",
        "\n",
        "resultados_acc_cvd = resultados_acc_cvd.mean() * 100\n",
        "resultados_f1_cvd = resultados_f1_cvd.mean() * 100\n",
        "resultados_recall_cvd = resultados_recall_cvd.mean() * 100\n",
        "resultados_precision_cvd = resultados_precision_cvd.mean() * 100\n",
        "\n",
        "print(f'Accuracy: {round(resultados_acc_cvd,2)} %\\n\\nF1: {round(resultados_f1_cvd,2)} %\\n\\nSensibility: {round(resultados_recall_cvd,2)} %\\n\\nPrecision: {round(resultados_precision_cvd,2)} %')"
      ],
      "execution_count": null,
      "outputs": [
        {
          "output_type": "stream",
          "name": "stdout",
          "text": [
            "Accuracy: 75.09 %\n",
            "\n",
            "F1: 78.94 %\n",
            "\n",
            "Sensibility: 92.7 %\n",
            "\n",
            "Precision: 69.56 %\n"
          ]
        }
      ]
    },
    {
      "cell_type": "markdown",
      "metadata": {
        "id": "HgWRBBotdKye"
      },
      "source": [
        "**Validação Cruzada com algoritomo KNeighborsClassifier usando previsores_MI / target_MI**"
      ]
    },
    {
      "cell_type": "code",
      "metadata": {
        "id": "4tAxoQdtdPiN"
      },
      "source": [
        "#Aplicando a validação cruzada previsores_MI/target_MI\n",
        "\n",
        "resultados_acc_MI = cross_val_score(modeloKValCru, previsores_MI, target_MI, cv=Kfold, scoring='accuracy')\n",
        "resultados_f1_MI = cross_val_score(modeloKValCru, previsores_MI, target_MI, cv=Kfold, scoring='f1')\n",
        "resultados_recall_MI = cross_val_score(modeloKValCru, previsores_MI, target_MI, cv=Kfold, scoring='recall')\n",
        "resultados_precision_MI = cross_val_score(modeloKValCru, previsores_MI, target_MI, cv=Kfold, scoring='precision')"
      ],
      "execution_count": null,
      "outputs": []
    },
    {
      "cell_type": "code",
      "metadata": {
        "colab": {
          "base_uri": "https://localhost:8080/"
        },
        "id": "1uVDFhkddW-B",
        "outputId": "f9d76c4c-ffdf-46b7-a06b-0b9be284e52c"
      },
      "source": [
        "#Média de accuracy, F1, Sensibility e precision após a validação cruzada\n",
        "\n",
        "resultados_acc_MI = resultados_acc_MI.mean() * 100\n",
        "resultados_f1_MI = resultados_f1_MI.mean() * 100\n",
        "resultados_recall_MI = resultados_recall_MI.mean() * 100\n",
        "resultados_precision_MI = resultados_precision_MI.mean() * 100\n",
        "\n",
        "print(f'Accuracy: {round(resultados_acc_MI,2)} %\\n\\nF1: {round(resultados_f1_MI,2)} %\\n\\nSensibility: {round(resultados_recall_MI,2)} %\\n\\nPrecision: {round(resultados_precision_MI,2)} %')"
      ],
      "execution_count": null,
      "outputs": [
        {
          "output_type": "stream",
          "name": "stdout",
          "text": [
            "Accuracy: 81.48 %\n",
            "\n",
            "F1: 84.53 %\n",
            "\n",
            "Sensibility: 96.12 %\n",
            "\n",
            "Precision: 76.0 %\n"
          ]
        }
      ]
    },
    {
      "cell_type": "markdown",
      "metadata": {
        "id": "u4lAnw6Zdcdd"
      },
      "source": [
        "**Validação Cruzada com algoritomo KNeighborsClassifier usando previsores_ANGINA / target_ANGINA**"
      ]
    },
    {
      "cell_type": "code",
      "metadata": {
        "id": "_Ct52F0hdfth"
      },
      "source": [
        "#Aplicando a validação cruzada previsores_ANGINA/target_ANGINA\n",
        "\n",
        "resultados_acc_ANGINA = cross_val_score(modeloKValCru, previsores_ANGINA, target_ANGINA, cv=Kfold, scoring='accuracy')\n",
        "resultados_f1_ANGINA = cross_val_score(modeloKValCru, previsores_ANGINA, target_ANGINA, cv=Kfold, scoring='f1')\n",
        "resultados_recall_ANGINA = cross_val_score(modeloKValCru, previsores_ANGINA, target_ANGINA, cv=Kfold, scoring='recall')\n",
        "resultados_precision_ANGINA = cross_val_score(modeloKValCru, previsores_ANGINA, target_ANGINA, cv=Kfold, scoring='precision')"
      ],
      "execution_count": null,
      "outputs": []
    },
    {
      "cell_type": "code",
      "metadata": {
        "colab": {
          "base_uri": "https://localhost:8080/"
        },
        "id": "mi0gAuI4dstR",
        "outputId": "15c7a673-4e35-4386-d950-ccc849ee39e3"
      },
      "source": [
        "#Média de accuracy, F1, Sensibility e precision após a validação cruzada\n",
        "\n",
        "resultados_acc_ANGINA = resultados_acc_ANGINA.mean() * 100\n",
        "resultados_f1_ANGINA = resultados_f1_ANGINA.mean() * 100\n",
        "resultados_recall_ANGINA = resultados_recall_ANGINA.mean() * 100\n",
        "resultados_precision_ANGINA = resultados_precision_ANGINA.mean() * 100\n",
        "\n",
        "print(f'Accuracy: {round(resultados_acc_ANGINA,2)} %\\n\\nF1: {round(resultados_f1_ANGINA,2)} %\\n\\nSensibility: {round(resultados_recall_ANGINA,2)} %\\n\\nPrecision: {round(resultados_precision_ANGINA,2)} %')"
      ],
      "execution_count": null,
      "outputs": [
        {
          "output_type": "stream",
          "name": "stdout",
          "text": [
            "Accuracy: 78.81 %\n",
            "\n",
            "F1: 82.97 %\n",
            "\n",
            "Sensibility: 96.2 %\n",
            "\n",
            "Precision: 73.22 %\n"
          ]
        }
      ]
    },
    {
      "cell_type": "markdown",
      "metadata": {
        "id": "3RFuJSiAdyh1"
      },
      "source": [
        "**Validação Cruzada com algoritomo KNeighborsClassifier usando previsores_STROKE / target_STROKE**"
      ]
    },
    {
      "cell_type": "code",
      "metadata": {
        "id": "tABk-1M_d2dS"
      },
      "source": [
        "#Aplicando a validação cruzada previsores_STROKE/target_STROKE\n",
        "\n",
        "resultados_acc_STROKE = cross_val_score(modeloKValCru, previsores_STROKE, target_STROKE, cv=Kfold, scoring='accuracy')\n",
        "resultados_f1_STROKE = cross_val_score(modeloKValCru, previsores_STROKE, target_STROKE, cv=Kfold, scoring='f1')\n",
        "resultados_recall_STROKE = cross_val_score(modeloKValCru, previsores_STROKE, target_STROKE, cv=Kfold, scoring='recall')\n",
        "resultados_precision_STROKE = cross_val_score(modeloKValCru, previsores_STROKE, target_STROKE, cv=Kfold, scoring='precision')"
      ],
      "execution_count": null,
      "outputs": []
    },
    {
      "cell_type": "code",
      "metadata": {
        "colab": {
          "base_uri": "https://localhost:8080/"
        },
        "id": "eR8GY30Nd97J",
        "outputId": "e1a44222-8206-49ce-b077-683cf3d3ae6d"
      },
      "source": [
        "#Média de accuracy, F1, Sensibility e precision após a validação cruzada\n",
        "\n",
        "resultados_acc_STROKE = resultados_acc_STROKE.mean() * 100\n",
        "resultados_f1_STROKE = resultados_f1_STROKE.mean() * 100\n",
        "resultados_recall_STROKE = resultados_recall_STROKE.mean() * 100\n",
        "resultados_precision_STROKE = resultados_precision_STROKE.mean() * 100\n",
        "\n",
        "print(f'Accuracy: {round(resultados_acc_STROKE,2)} %\\n\\nF1: {round(resultados_f1_STROKE,2)} %\\n\\nSensibility: {round(resultados_recall_STROKE,2)} %\\n\\nPrecision: {round(resultados_precision_STROKE,2)} %')"
      ],
      "execution_count": null,
      "outputs": [
        {
          "output_type": "stream",
          "name": "stdout",
          "text": [
            "Accuracy: 82.29 %\n",
            "\n",
            "F1: 85.55 %\n",
            "\n",
            "Sensibility: 97.06 %\n",
            "\n",
            "Precision: 76.71 %\n"
          ]
        }
      ]
    }
  ]
}